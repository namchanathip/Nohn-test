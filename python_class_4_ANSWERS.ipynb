{
 "cells": [
  {
   "cell_type": "markdown",
   "metadata": {},
   "source": [
    "# <div style=\"text-align: center\"> Using Python ADVANCED\n",
    "\n",
    "## <div style=\"text-align: center\">Introduction to Python (IV) - Advanced topics\n",
    "\n",
    "### <span style=\"color:red\"> *PLEASE ENTER THIS CELL AND WRITE YOUR NAME HERE:*_____________________________ </span>"
   ]
  },
  {
   "cell_type": "markdown",
   "metadata": {},
   "source": [
    "![logo](https://www.kozminski.edu.pl/fileadmin/_processed_/csm_logotypy_plaskie__kozminski_university_0430be3c25.png)\n",
    "![logo2](https://efs.mrpips.gov.pl/__data/assets/image/0014/11336/04_zestawienie_power_rp_ue_efs.png)"
   ]
  },
  {
   "cell_type": "markdown",
   "metadata": {},
   "source": [
    "---"
   ]
  },
  {
   "cell_type": "markdown",
   "metadata": {},
   "source": [
    "We will often use these and other imports appearing in the notebook, and probably we will not always want to enter them all. Sometimes it's good to take a moment and keyboard in all these imports, but for the sake of our time and mental comfort we can create a `.py` file with all frequently used imports and continue to use it in our notebook. That's why the warm-up exercise is waiting for you:\n",
    "\n",
    "### Exercise - Importing functions from external files\n",
    "* Create the file `imports.txt` in the folder with this notebook. In addition, you can use, for example, the text editor [Atom](https://atom.io/).\n",
    "* copy to the file `imports.txt` imports appearing in the first two cells of this notebook (but not`%matplotlib inline` - it is a \"magical function\" and works only in notebooks) and save `imports.py`\n",
    "* replace the contents of the first cell of this notebook (the one with imports) with:\n",
    "  ```Python\n",
    "  from imports import *\n",
    "  ```\n",
    "  it means *import everything from a file / module called `imports`*\n",
    "* restart your notebook (`kernel -> restart`), start from the beginning and check if the following cell is working:"
   ]
  },
  {
   "cell_type": "code",
   "execution_count": 3,
   "metadata": {},
   "outputs": [],
   "source": [
    "from my_imports import *\n",
    "%matplotlib inline"
   ]
  },
  {
   "cell_type": "code",
   "execution_count": 4,
   "metadata": {},
   "outputs": [
    {
     "data": {
      "text/plain": [
       "2.0"
      ]
     },
     "execution_count": 4,
     "metadata": {},
     "output_type": "execute_result"
    }
   ],
   "source": [
    "np.sqrt(4)"
   ]
  },
  {
   "cell_type": "markdown",
   "metadata": {},
   "source": [
    "---"
   ]
  },
  {
   "cell_type": "markdown",
   "metadata": {},
   "source": [
    "# Databases - advanced level\n",
    "File operations, dates, data wrangling"
   ]
  },
  {
   "cell_type": "markdown",
   "metadata": {},
   "source": [
    "### Below we load 4 .json files downloaded from Wikidata:\n",
    "https://www.wikidata.org/wiki/Wikidata:Main_Page <br>\n",
    "https://query.wikidata.org/ <br>\n",
    "\n",
    "These files contain various data about musicians from specific styles of music. However, all databases have the same number of columns (though different number of rows). They are taken from json files, so this is semi-structured data."
   ]
  },
  {
   "cell_type": "markdown",
   "metadata": {},
   "source": [
    "Let's define a path to load files so that you do not have to enter it constantly over and over again:"
   ]
  },
  {
   "cell_type": "code",
   "execution_count": 8,
   "metadata": {},
   "outputs": [],
   "source": [
    "PTH = r'C:\\Users\\leont\\Google Drive\\CLASSES\\ALK 2019-2020\\Using Python\\python_class_3_BASIC\\DATA'\n",
    "\n",
    "# the below code is creating a list of all file addresses - json files\n",
    "FILES_JSON = glob.glob(op.join(PTH, '*.json')) "
   ]
  },
  {
   "cell_type": "code",
   "execution_count": 9,
   "metadata": {
    "scrolled": true
   },
   "outputs": [
    {
     "data": {
      "text/plain": [
       "'C:\\\\Users\\\\leont\\\\Google Drive\\\\CLASSES\\\\ALK 2019-2020\\\\Using Python\\\\python_class_3_BASIC\\\\DATA\\\\*.json'"
      ]
     },
     "execution_count": 9,
     "metadata": {},
     "output_type": "execute_result"
    }
   ],
   "source": [
    "op.join(PTH, '*.json')"
   ]
  },
  {
   "cell_type": "code",
   "execution_count": 10,
   "metadata": {},
   "outputs": [
    {
     "data": {
      "text/plain": [
       "['C:\\\\Users\\\\leont\\\\Google Drive\\\\CLASSES\\\\ALK 2019-2020\\\\Using Python\\\\python_class_3_BASIC\\\\DATA\\\\death_death_metal.json',\n",
       " 'C:\\\\Users\\\\leont\\\\Google Drive\\\\CLASSES\\\\ALK 2019-2020\\\\Using Python\\\\python_class_3_BASIC\\\\DATA\\\\death_hip_hop_music.json',\n",
       " 'C:\\\\Users\\\\leont\\\\Google Drive\\\\CLASSES\\\\ALK 2019-2020\\\\Using Python\\\\python_class_3_BASIC\\\\DATA\\\\death_jazz.json',\n",
       " 'C:\\\\Users\\\\leont\\\\Google Drive\\\\CLASSES\\\\ALK 2019-2020\\\\Using Python\\\\python_class_3_BASIC\\\\DATA\\\\death_pop_music.json']"
      ]
     },
     "execution_count": 10,
     "metadata": {},
     "output_type": "execute_result"
    }
   ],
   "source": [
    "FILES_JSON"
   ]
  },
  {
   "cell_type": "markdown",
   "metadata": {},
   "source": [
    "We can load the first file to review it"
   ]
  },
  {
   "cell_type": "code",
   "execution_count": 11,
   "metadata": {},
   "outputs": [
    {
     "name": "stderr",
     "output_type": "stream",
     "text": [
      "C:\\ProgramData\\Anaconda3\\lib\\site-packages\\ipykernel_launcher.py:5: FutureWarning: pandas.io.json.json_normalize is deprecated, use pandas.json_normalize instead\n",
      "  \"\"\"\n"
     ]
    }
   ],
   "source": [
    "with open(FILES_JSON[0], encoding='utf-8', errors='ignore') as json_data:\n",
    "         data = json.load(json_data, strict=False)\n",
    "\n",
    "# create a new dataframe, and normalize it\n",
    "df_json = pd.DataFrame.from_dict(json_normalize(data), orient='columns')"
   ]
  },
  {
   "cell_type": "code",
   "execution_count": 13,
   "metadata": {},
   "outputs": [
    {
     "data": {
      "text/plain": [
       "{'instance_of': 'http://www.wikidata.org/entity/Q25660',\n",
       " 'instance_ofLabel': 'Tomasz Wróblewski',\n",
       " 'date_of_birth': '1980-06-02T00:00:00Z',\n",
       " 'country_of_citizenship': 'http://www.wikidata.org/entity/Q36',\n",
       " 'country_of_citizenshipLabel': 'Poland',\n",
       " 'instrument': 'http://www.wikidata.org/entity/Q6607',\n",
       " 'instrumentLabel': 'guitar',\n",
       " 'occupation': 'http://www.wikidata.org/entity/Q177220',\n",
       " 'occupationLabel': 'singer',\n",
       " 'sex_or_gender': 'http://www.wikidata.org/entity/Q6581097',\n",
       " 'sex_or_genderLabel': 'male',\n",
       " 'place_of_birth': 'http://www.wikidata.org/entity/Q270',\n",
       " 'place_of_birthLabel': 'Warsaw'}"
      ]
     },
     "execution_count": 13,
     "metadata": {},
     "output_type": "execute_result"
    }
   ],
   "source": [
    "# data list consists of dictionaries - not convenient for operations\n",
    "data[0]"
   ]
  },
  {
   "cell_type": "markdown",
   "metadata": {},
   "source": [
    "What does the base look like? Please display the first 5 lines."
   ]
  },
  {
   "cell_type": "code",
   "execution_count": 26,
   "metadata": {},
   "outputs": [
    {
     "data": {
      "text/html": [
       "<div>\n",
       "<style scoped>\n",
       "    .dataframe tbody tr th:only-of-type {\n",
       "        vertical-align: middle;\n",
       "    }\n",
       "\n",
       "    .dataframe tbody tr th {\n",
       "        vertical-align: top;\n",
       "    }\n",
       "\n",
       "    .dataframe thead th {\n",
       "        text-align: right;\n",
       "    }\n",
       "</style>\n",
       "<table border=\"1\" class=\"dataframe\">\n",
       "  <thead>\n",
       "    <tr style=\"text-align: right;\">\n",
       "      <th></th>\n",
       "      <th>instance_of</th>\n",
       "      <th>instance_ofLabel</th>\n",
       "      <th>date_of_birth</th>\n",
       "      <th>country_of_citizenship</th>\n",
       "      <th>country_of_citizenshipLabel</th>\n",
       "      <th>instrument</th>\n",
       "      <th>instrumentLabel</th>\n",
       "      <th>occupation</th>\n",
       "      <th>occupationLabel</th>\n",
       "      <th>sex_or_gender</th>\n",
       "      <th>sex_or_genderLabel</th>\n",
       "      <th>place_of_birth</th>\n",
       "      <th>place_of_birthLabel</th>\n",
       "      <th>date_of_death</th>\n",
       "      <th>cause_of_death</th>\n",
       "      <th>cause_of_deathLabel</th>\n",
       "      <th>manner_of_death</th>\n",
       "      <th>manner_of_deathLabel</th>\n",
       "      <th>place_of_death</th>\n",
       "      <th>place_of_deathLabel</th>\n",
       "    </tr>\n",
       "  </thead>\n",
       "  <tbody>\n",
       "    <tr>\n",
       "      <th>0</th>\n",
       "      <td>http://www.wikidata.org/entity/Q25660</td>\n",
       "      <td>Tomasz Wróblewski</td>\n",
       "      <td>1980-06-02T00:00:00Z</td>\n",
       "      <td>http://www.wikidata.org/entity/Q36</td>\n",
       "      <td>Poland</td>\n",
       "      <td>http://www.wikidata.org/entity/Q6607</td>\n",
       "      <td>guitar</td>\n",
       "      <td>http://www.wikidata.org/entity/Q177220</td>\n",
       "      <td>singer</td>\n",
       "      <td>http://www.wikidata.org/entity/Q6581097</td>\n",
       "      <td>male</td>\n",
       "      <td>http://www.wikidata.org/entity/Q270</td>\n",
       "      <td>Warsaw</td>\n",
       "      <td>NaN</td>\n",
       "      <td>NaN</td>\n",
       "      <td>NaN</td>\n",
       "      <td>NaN</td>\n",
       "      <td>NaN</td>\n",
       "      <td>NaN</td>\n",
       "      <td>NaN</td>\n",
       "    </tr>\n",
       "    <tr>\n",
       "      <th>1</th>\n",
       "      <td>http://www.wikidata.org/entity/Q25660</td>\n",
       "      <td>Tomasz Wróblewski</td>\n",
       "      <td>1980-06-02T00:00:00Z</td>\n",
       "      <td>http://www.wikidata.org/entity/Q36</td>\n",
       "      <td>Poland</td>\n",
       "      <td>http://www.wikidata.org/entity/Q46185</td>\n",
       "      <td>bass guitar</td>\n",
       "      <td>http://www.wikidata.org/entity/Q177220</td>\n",
       "      <td>singer</td>\n",
       "      <td>http://www.wikidata.org/entity/Q6581097</td>\n",
       "      <td>male</td>\n",
       "      <td>http://www.wikidata.org/entity/Q270</td>\n",
       "      <td>Warsaw</td>\n",
       "      <td>NaN</td>\n",
       "      <td>NaN</td>\n",
       "      <td>NaN</td>\n",
       "      <td>NaN</td>\n",
       "      <td>NaN</td>\n",
       "      <td>NaN</td>\n",
       "      <td>NaN</td>\n",
       "    </tr>\n",
       "    <tr>\n",
       "      <th>2</th>\n",
       "      <td>http://www.wikidata.org/entity/Q25660</td>\n",
       "      <td>Tomasz Wróblewski</td>\n",
       "      <td>1980-06-02T00:00:00Z</td>\n",
       "      <td>http://www.wikidata.org/entity/Q36</td>\n",
       "      <td>Poland</td>\n",
       "      <td>http://www.wikidata.org/entity/Q17172850</td>\n",
       "      <td>voice</td>\n",
       "      <td>http://www.wikidata.org/entity/Q177220</td>\n",
       "      <td>singer</td>\n",
       "      <td>http://www.wikidata.org/entity/Q6581097</td>\n",
       "      <td>male</td>\n",
       "      <td>http://www.wikidata.org/entity/Q270</td>\n",
       "      <td>Warsaw</td>\n",
       "      <td>NaN</td>\n",
       "      <td>NaN</td>\n",
       "      <td>NaN</td>\n",
       "      <td>NaN</td>\n",
       "      <td>NaN</td>\n",
       "      <td>NaN</td>\n",
       "      <td>NaN</td>\n",
       "    </tr>\n",
       "    <tr>\n",
       "      <th>3</th>\n",
       "      <td>http://www.wikidata.org/entity/Q25660</td>\n",
       "      <td>Tomasz Wróblewski</td>\n",
       "      <td>1980-06-02T00:00:00Z</td>\n",
       "      <td>http://www.wikidata.org/entity/Q36</td>\n",
       "      <td>Poland</td>\n",
       "      <td>http://www.wikidata.org/entity/Q6607</td>\n",
       "      <td>guitar</td>\n",
       "      <td>http://www.wikidata.org/entity/Q183945</td>\n",
       "      <td>record producer</td>\n",
       "      <td>http://www.wikidata.org/entity/Q6581097</td>\n",
       "      <td>male</td>\n",
       "      <td>http://www.wikidata.org/entity/Q270</td>\n",
       "      <td>Warsaw</td>\n",
       "      <td>NaN</td>\n",
       "      <td>NaN</td>\n",
       "      <td>NaN</td>\n",
       "      <td>NaN</td>\n",
       "      <td>NaN</td>\n",
       "      <td>NaN</td>\n",
       "      <td>NaN</td>\n",
       "    </tr>\n",
       "    <tr>\n",
       "      <th>4</th>\n",
       "      <td>http://www.wikidata.org/entity/Q25660</td>\n",
       "      <td>Tomasz Wróblewski</td>\n",
       "      <td>1980-06-02T00:00:00Z</td>\n",
       "      <td>http://www.wikidata.org/entity/Q36</td>\n",
       "      <td>Poland</td>\n",
       "      <td>http://www.wikidata.org/entity/Q46185</td>\n",
       "      <td>bass guitar</td>\n",
       "      <td>http://www.wikidata.org/entity/Q183945</td>\n",
       "      <td>record producer</td>\n",
       "      <td>http://www.wikidata.org/entity/Q6581097</td>\n",
       "      <td>male</td>\n",
       "      <td>http://www.wikidata.org/entity/Q270</td>\n",
       "      <td>Warsaw</td>\n",
       "      <td>NaN</td>\n",
       "      <td>NaN</td>\n",
       "      <td>NaN</td>\n",
       "      <td>NaN</td>\n",
       "      <td>NaN</td>\n",
       "      <td>NaN</td>\n",
       "      <td>NaN</td>\n",
       "    </tr>\n",
       "  </tbody>\n",
       "</table>\n",
       "</div>"
      ],
      "text/plain": [
       "                             instance_of   instance_ofLabel  \\\n",
       "0  http://www.wikidata.org/entity/Q25660  Tomasz Wróblewski   \n",
       "1  http://www.wikidata.org/entity/Q25660  Tomasz Wróblewski   \n",
       "2  http://www.wikidata.org/entity/Q25660  Tomasz Wróblewski   \n",
       "3  http://www.wikidata.org/entity/Q25660  Tomasz Wróblewski   \n",
       "4  http://www.wikidata.org/entity/Q25660  Tomasz Wróblewski   \n",
       "\n",
       "          date_of_birth              country_of_citizenship  \\\n",
       "0  1980-06-02T00:00:00Z  http://www.wikidata.org/entity/Q36   \n",
       "1  1980-06-02T00:00:00Z  http://www.wikidata.org/entity/Q36   \n",
       "2  1980-06-02T00:00:00Z  http://www.wikidata.org/entity/Q36   \n",
       "3  1980-06-02T00:00:00Z  http://www.wikidata.org/entity/Q36   \n",
       "4  1980-06-02T00:00:00Z  http://www.wikidata.org/entity/Q36   \n",
       "\n",
       "  country_of_citizenshipLabel                                instrument  \\\n",
       "0                      Poland      http://www.wikidata.org/entity/Q6607   \n",
       "1                      Poland     http://www.wikidata.org/entity/Q46185   \n",
       "2                      Poland  http://www.wikidata.org/entity/Q17172850   \n",
       "3                      Poland      http://www.wikidata.org/entity/Q6607   \n",
       "4                      Poland     http://www.wikidata.org/entity/Q46185   \n",
       "\n",
       "  instrumentLabel                              occupation  occupationLabel  \\\n",
       "0          guitar  http://www.wikidata.org/entity/Q177220           singer   \n",
       "1     bass guitar  http://www.wikidata.org/entity/Q177220           singer   \n",
       "2           voice  http://www.wikidata.org/entity/Q177220           singer   \n",
       "3          guitar  http://www.wikidata.org/entity/Q183945  record producer   \n",
       "4     bass guitar  http://www.wikidata.org/entity/Q183945  record producer   \n",
       "\n",
       "                             sex_or_gender sex_or_genderLabel  \\\n",
       "0  http://www.wikidata.org/entity/Q6581097               male   \n",
       "1  http://www.wikidata.org/entity/Q6581097               male   \n",
       "2  http://www.wikidata.org/entity/Q6581097               male   \n",
       "3  http://www.wikidata.org/entity/Q6581097               male   \n",
       "4  http://www.wikidata.org/entity/Q6581097               male   \n",
       "\n",
       "                        place_of_birth place_of_birthLabel date_of_death  \\\n",
       "0  http://www.wikidata.org/entity/Q270              Warsaw           NaN   \n",
       "1  http://www.wikidata.org/entity/Q270              Warsaw           NaN   \n",
       "2  http://www.wikidata.org/entity/Q270              Warsaw           NaN   \n",
       "3  http://www.wikidata.org/entity/Q270              Warsaw           NaN   \n",
       "4  http://www.wikidata.org/entity/Q270              Warsaw           NaN   \n",
       "\n",
       "  cause_of_death cause_of_deathLabel manner_of_death manner_of_deathLabel  \\\n",
       "0            NaN                 NaN             NaN                  NaN   \n",
       "1            NaN                 NaN             NaN                  NaN   \n",
       "2            NaN                 NaN             NaN                  NaN   \n",
       "3            NaN                 NaN             NaN                  NaN   \n",
       "4            NaN                 NaN             NaN                  NaN   \n",
       "\n",
       "  place_of_death place_of_deathLabel  \n",
       "0            NaN                 NaN  \n",
       "1            NaN                 NaN  \n",
       "2            NaN                 NaN  \n",
       "3            NaN                 NaN  \n",
       "4            NaN                 NaN  "
      ]
     },
     "execution_count": 26,
     "metadata": {},
     "output_type": "execute_result"
    }
   ],
   "source": [
    "df_json.head()"
   ]
  },
  {
   "cell_type": "markdown",
   "metadata": {},
   "source": [
    "<div class=\"alert alert-block alert-success\">\n",
    "⚠️TASK 1\n",
    "<br>\n",
    "\n",
    "Please check the dimensions of the base, and then check how many 'unique' musicians are in the base.\n",
    "\n",
    "</div>"
   ]
  },
  {
   "cell_type": "code",
   "execution_count": 16,
   "metadata": {},
   "outputs": [
    {
     "data": {
      "text/plain": [
       "(371, 20)"
      ]
     },
     "execution_count": 16,
     "metadata": {},
     "output_type": "execute_result"
    }
   ],
   "source": [
    "df_json.shape"
   ]
  },
  {
   "cell_type": "code",
   "execution_count": 17,
   "metadata": {},
   "outputs": [
    {
     "data": {
      "text/plain": [
       "Index(['instance_of', 'instance_ofLabel', 'date_of_birth',\n",
       "       'country_of_citizenship', 'country_of_citizenshipLabel', 'instrument',\n",
       "       'instrumentLabel', 'occupation', 'occupationLabel', 'sex_or_gender',\n",
       "       'sex_or_genderLabel', 'place_of_birth', 'place_of_birthLabel',\n",
       "       'date_of_death', 'cause_of_death', 'cause_of_deathLabel',\n",
       "       'manner_of_death', 'manner_of_deathLabel', 'place_of_death',\n",
       "       'place_of_deathLabel'],\n",
       "      dtype='object')"
      ]
     },
     "execution_count": 17,
     "metadata": {},
     "output_type": "execute_result"
    }
   ],
   "source": [
    "df_json.columns"
   ]
  },
  {
   "cell_type": "code",
   "execution_count": 20,
   "metadata": {},
   "outputs": [
    {
     "name": "stdout",
     "output_type": "stream",
     "text": [
      "Number of unique musicians: 100\n"
     ]
    },
    {
     "data": {
      "text/plain": [
       "array(['Tomasz Wróblewski', 'Patryk Dominik Sztyber', 'Kristian Wåhlin',\n",
       "       'Igor Pablo Cavalera', 'Alex Webster', 'Varg Vikernes',\n",
       "       'Chuck Schuldiner', 'Rob Barrett', 'Jim Root', 'Phil Anselmo',\n",
       "       'Mick Thomson', 'Paul Speckmann', 'Chris Reifert', 'David Kinkade',\n",
       "       'Mike Browning', 'Donald Tardy', 'Richard Brunelle', 'Flo Mounier',\n",
       "       'Tim Yeung', 'Shane Embury', 'Mitch Harris', 'Burton C. Bell',\n",
       "       'Johan Edlund', 'Mike Smith', 'Fred Estby', 'Steve Asheim',\n",
       "       'Marcin Rygiel', 'Destructhor', 'David Vincent', 'Terry Butler',\n",
       "       'James Murphy', 'Johan Reinholdz', 'Derek Roddy',\n",
       "       'Mieszko Talarczyk', 'Steve Di Giorgio', 'Rick Rozz',\n",
       "       'Fredrik Norrman', 'Jørn Inge Tunsberg', 'Fenriz',\n",
       "       'Jan Axel Blomberg', 'Nocturno Culto', 'Gene Hoglan',\n",
       "       'Jeroen Paul Thesseling', 'Max Thornell', 'Dallas Ward',\n",
       "       'John Ortega', 'Sterling Von Scarborough', 'Tony Norman',\n",
       "       'Krzysztof Oloś', 'Mateusz Śmierzchalski', 'Christian Andreu',\n",
       "       'Tomasz Halicki', 'Phlegeton', 'Tobias Forge', 'Stefan Hüskens',\n",
       "       'James Paul Konya', 'Bill Tolley',\n",
       "       'Stephanie Karen Carol Allouche', 'Theo Loomans',\n",
       "       'Tuomas Lintulaakso', 'Leif Cuzner', 'Matt Harvey',\n",
       "       'Leila Abdul-Rauf', 'Ethan Lee McCarthy', 'Peter Lindgren',\n",
       "       'Patrick Mameli', 'Paulo Jr.', 'Shannon Hamm', 'Jo Bench',\n",
       "       'Astennu', 'Krzysztof Raczkowski', 'Ares', 'Dariusz Brzozowski',\n",
       "       'Wagner Lamounier', 'Erlend Caspersen', 'Gian Pyres', 'Allen West',\n",
       "       'Kevin Talley', 'Ole Petter Andreassen', 'Frank Watkins',\n",
       "       'Greg Gall', 'Will Rahmer', 'Michael Keene', 'Filip Hałucha',\n",
       "       'Trevor Peres', 'Maurycy Stefanowicz', 'Marek Pająk',\n",
       "       'Tomasz Rejek', 'Anders Hammer', 'Dave Suzuki', 'Emilio Márquez',\n",
       "       'Peter Dolving', 'Helmuth Lehner', 'Jeff Hughell', 'Killjoy',\n",
       "       'Laura Bravo', 'Oscar Nilsson', 'Roger J. Beaujard',\n",
       "       'Terrance Hobbs', 'Thomas Neitsch'], dtype=object)"
      ]
     },
     "execution_count": 20,
     "metadata": {},
     "output_type": "execute_result"
    }
   ],
   "source": [
    "print('Number of unique musicians:', len(df_json.instance_ofLabel.unique()))\n",
    "\n",
    "df_json.instance_ofLabel.unique()"
   ]
  },
  {
   "cell_type": "markdown",
   "metadata": {},
   "source": [
    "<div class=\"alert alert-block alert-success\">\n",
    "⚠️TASK 2\n",
    "<br>\n",
    "\n",
    "Please check what data types we have in each column.\n",
    "\n",
    "</div>"
   ]
  },
  {
   "cell_type": "code",
   "execution_count": 24,
   "metadata": {},
   "outputs": [
    {
     "name": "stdout",
     "output_type": "stream",
     "text": [
      "<class 'pandas.core.frame.DataFrame'>\n",
      "RangeIndex: 371 entries, 0 to 370\n",
      "Data columns (total 20 columns):\n",
      " #   Column                       Non-Null Count  Dtype \n",
      "---  ------                       --------------  ----- \n",
      " 0   instance_of                  371 non-null    object\n",
      " 1   instance_ofLabel             371 non-null    object\n",
      " 2   date_of_birth                345 non-null    object\n",
      " 3   country_of_citizenship       366 non-null    object\n",
      " 4   country_of_citizenshipLabel  366 non-null    object\n",
      " 5   instrument                   361 non-null    object\n",
      " 6   instrumentLabel              361 non-null    object\n",
      " 7   occupation                   371 non-null    object\n",
      " 8   occupationLabel              371 non-null    object\n",
      " 9   sex_or_gender                371 non-null    object\n",
      " 10  sex_or_genderLabel           371 non-null    object\n",
      " 11  place_of_birth               339 non-null    object\n",
      " 12  place_of_birthLabel          339 non-null    object\n",
      " 13  date_of_death                36 non-null     object\n",
      " 14  cause_of_death               23 non-null     object\n",
      " 15  cause_of_deathLabel          23 non-null     object\n",
      " 16  manner_of_death              20 non-null     object\n",
      " 17  manner_of_deathLabel         20 non-null     object\n",
      " 18  place_of_death               21 non-null     object\n",
      " 19  place_of_deathLabel          21 non-null     object\n",
      "dtypes: object(20)\n",
      "memory usage: 58.1+ KB\n"
     ]
    }
   ],
   "source": [
    "df_json.info()"
   ]
  },
  {
   "cell_type": "code",
   "execution_count": 25,
   "metadata": {},
   "outputs": [
    {
     "data": {
      "text/plain": [
       "instance_of                    object\n",
       "instance_ofLabel               object\n",
       "date_of_birth                  object\n",
       "country_of_citizenship         object\n",
       "country_of_citizenshipLabel    object\n",
       "instrument                     object\n",
       "instrumentLabel                object\n",
       "occupation                     object\n",
       "occupationLabel                object\n",
       "sex_or_gender                  object\n",
       "sex_or_genderLabel             object\n",
       "place_of_birth                 object\n",
       "place_of_birthLabel            object\n",
       "date_of_death                  object\n",
       "cause_of_death                 object\n",
       "cause_of_deathLabel            object\n",
       "manner_of_death                object\n",
       "manner_of_deathLabel           object\n",
       "place_of_death                 object\n",
       "place_of_deathLabel            object\n",
       "dtype: object"
      ]
     },
     "execution_count": 25,
     "metadata": {},
     "output_type": "execute_result"
    }
   ],
   "source": [
    "df_json.dtypes"
   ]
  },
  {
   "cell_type": "markdown",
   "metadata": {},
   "source": [
    "We define two variables, where one will contain only columns with dates, and the other all others."
   ]
  },
  {
   "cell_type": "code",
   "execution_count": 27,
   "metadata": {},
   "outputs": [],
   "source": [
    "col_dates = ['date_of_birth', 'date_of_death']\n",
    "\n",
    "col_no_dates = ['cause_of_deathLabel', 'manner_of_deathLabel',\n",
    "                'country_of_citizenshipLabel', 'place_of_birthLabel',\n",
    "                'place_of_deathLabel', 'sex_or_genderLabel']"
   ]
  },
  {
   "cell_type": "code",
   "execution_count": 29,
   "metadata": {},
   "outputs": [
    {
     "data": {
      "text/plain": [
       "6"
      ]
     },
     "execution_count": 29,
     "metadata": {},
     "output_type": "execute_result"
    }
   ],
   "source": [
    "len(col_no_dates)"
   ]
  },
  {
   "cell_type": "markdown",
   "metadata": {},
   "source": [
    "Please think about how to merge the entire database, but in such a way that one row would be one person (it's a very difficult task!)."
   ]
  },
  {
   "cell_type": "markdown",
   "metadata": {},
   "source": [
    "#### This can be done e.g. in the following way:"
   ]
  },
  {
   "cell_type": "markdown",
   "metadata": {},
   "source": [
    "<div class=\"alert alert-block alert-success\">\n",
    "⚠️TASK 3\n",
    "<br>\n",
    "\n",
    "Please create an empty DataFrame called `df` that would have as columns 'instance_ofLabel'+col_dates+col_no_dates, and the length of the df (i.e. the number of rows) would be equal to the number of unique musicians in the base.\n",
    "\n",
    "</div>"
   ]
  },
  {
   "cell_type": "code",
   "execution_count": 39,
   "metadata": {},
   "outputs": [],
   "source": [
    "my_columns = ['musician_name'] + col_dates + col_no_dates\n",
    "\n",
    "my_index = len(df_json.instance_ofLabel.unique())\n",
    "\n",
    "df = pd.DataFrame(index=range(my_index), columns=my_columns)"
   ]
  },
  {
   "cell_type": "code",
   "execution_count": 40,
   "metadata": {},
   "outputs": [
    {
     "data": {
      "text/html": [
       "<div>\n",
       "<style scoped>\n",
       "    .dataframe tbody tr th:only-of-type {\n",
       "        vertical-align: middle;\n",
       "    }\n",
       "\n",
       "    .dataframe tbody tr th {\n",
       "        vertical-align: top;\n",
       "    }\n",
       "\n",
       "    .dataframe thead th {\n",
       "        text-align: right;\n",
       "    }\n",
       "</style>\n",
       "<table border=\"1\" class=\"dataframe\">\n",
       "  <thead>\n",
       "    <tr style=\"text-align: right;\">\n",
       "      <th></th>\n",
       "      <th>musician_name</th>\n",
       "      <th>date_of_birth</th>\n",
       "      <th>date_of_death</th>\n",
       "      <th>cause_of_deathLabel</th>\n",
       "      <th>manner_of_deathLabel</th>\n",
       "      <th>country_of_citizenshipLabel</th>\n",
       "      <th>place_of_birthLabel</th>\n",
       "      <th>place_of_deathLabel</th>\n",
       "      <th>sex_or_genderLabel</th>\n",
       "    </tr>\n",
       "  </thead>\n",
       "  <tbody>\n",
       "    <tr>\n",
       "      <th>0</th>\n",
       "      <td>NaN</td>\n",
       "      <td>NaN</td>\n",
       "      <td>NaN</td>\n",
       "      <td>NaN</td>\n",
       "      <td>NaN</td>\n",
       "      <td>NaN</td>\n",
       "      <td>NaN</td>\n",
       "      <td>NaN</td>\n",
       "      <td>NaN</td>\n",
       "    </tr>\n",
       "    <tr>\n",
       "      <th>1</th>\n",
       "      <td>NaN</td>\n",
       "      <td>NaN</td>\n",
       "      <td>NaN</td>\n",
       "      <td>NaN</td>\n",
       "      <td>NaN</td>\n",
       "      <td>NaN</td>\n",
       "      <td>NaN</td>\n",
       "      <td>NaN</td>\n",
       "      <td>NaN</td>\n",
       "    </tr>\n",
       "    <tr>\n",
       "      <th>2</th>\n",
       "      <td>NaN</td>\n",
       "      <td>NaN</td>\n",
       "      <td>NaN</td>\n",
       "      <td>NaN</td>\n",
       "      <td>NaN</td>\n",
       "      <td>NaN</td>\n",
       "      <td>NaN</td>\n",
       "      <td>NaN</td>\n",
       "      <td>NaN</td>\n",
       "    </tr>\n",
       "    <tr>\n",
       "      <th>3</th>\n",
       "      <td>NaN</td>\n",
       "      <td>NaN</td>\n",
       "      <td>NaN</td>\n",
       "      <td>NaN</td>\n",
       "      <td>NaN</td>\n",
       "      <td>NaN</td>\n",
       "      <td>NaN</td>\n",
       "      <td>NaN</td>\n",
       "      <td>NaN</td>\n",
       "    </tr>\n",
       "    <tr>\n",
       "      <th>4</th>\n",
       "      <td>NaN</td>\n",
       "      <td>NaN</td>\n",
       "      <td>NaN</td>\n",
       "      <td>NaN</td>\n",
       "      <td>NaN</td>\n",
       "      <td>NaN</td>\n",
       "      <td>NaN</td>\n",
       "      <td>NaN</td>\n",
       "      <td>NaN</td>\n",
       "    </tr>\n",
       "  </tbody>\n",
       "</table>\n",
       "</div>"
      ],
      "text/plain": [
       "  musician_name date_of_birth date_of_death cause_of_deathLabel  \\\n",
       "0           NaN           NaN           NaN                 NaN   \n",
       "1           NaN           NaN           NaN                 NaN   \n",
       "2           NaN           NaN           NaN                 NaN   \n",
       "3           NaN           NaN           NaN                 NaN   \n",
       "4           NaN           NaN           NaN                 NaN   \n",
       "\n",
       "  manner_of_deathLabel country_of_citizenshipLabel place_of_birthLabel  \\\n",
       "0                  NaN                         NaN                 NaN   \n",
       "1                  NaN                         NaN                 NaN   \n",
       "2                  NaN                         NaN                 NaN   \n",
       "3                  NaN                         NaN                 NaN   \n",
       "4                  NaN                         NaN                 NaN   \n",
       "\n",
       "  place_of_deathLabel sex_or_genderLabel  \n",
       "0                 NaN                NaN  \n",
       "1                 NaN                NaN  \n",
       "2                 NaN                NaN  \n",
       "3                 NaN                NaN  \n",
       "4                 NaN                NaN  "
      ]
     },
     "execution_count": 40,
     "metadata": {},
     "output_type": "execute_result"
    }
   ],
   "source": [
    "df.head()"
   ]
  },
  {
   "cell_type": "code",
   "execution_count": 47,
   "metadata": {},
   "outputs": [
    {
     "data": {
      "text/plain": [
       "(100, 9)"
      ]
     },
     "execution_count": 47,
     "metadata": {},
     "output_type": "execute_result"
    }
   ],
   "source": [
    "df.shape"
   ]
  },
  {
   "cell_type": "markdown",
   "metadata": {},
   "source": [
    "So above attribute means that we will have 100 unique musicians in the death metal music genre."
   ]
  },
  {
   "cell_type": "markdown",
   "metadata": {},
   "source": [
    "### Now, please fill in the first column `musician_name` with unique names of musicians."
   ]
  },
  {
   "cell_type": "markdown",
   "metadata": {},
   "source": [
    "**IMPORTANT**: We need unique musicians in each row, because in statistics/visualisations etc. each separate row should correspond to a separate person/object/event. Otherwise, you would visualise e.g. 18 Tomasz Wróblewskis from our database and 5 Alex Websters, instead of 1 instance of each musician! This would create a bias in your statistics/visualisations."
   ]
  },
  {
   "cell_type": "code",
   "execution_count": 43,
   "metadata": {},
   "outputs": [],
   "source": [
    "df.musician_name = df_json.instance_ofLabel.unique()"
   ]
  },
  {
   "cell_type": "code",
   "execution_count": 43,
   "metadata": {},
   "outputs": [],
   "source": [
    "df['musician_name'] = df_json.instance_ofLabel.unique()"
   ]
  },
  {
   "cell_type": "code",
   "execution_count": 45,
   "metadata": {},
   "outputs": [
    {
     "data": {
      "text/html": [
       "<div>\n",
       "<style scoped>\n",
       "    .dataframe tbody tr th:only-of-type {\n",
       "        vertical-align: middle;\n",
       "    }\n",
       "\n",
       "    .dataframe tbody tr th {\n",
       "        vertical-align: top;\n",
       "    }\n",
       "\n",
       "    .dataframe thead th {\n",
       "        text-align: right;\n",
       "    }\n",
       "</style>\n",
       "<table border=\"1\" class=\"dataframe\">\n",
       "  <thead>\n",
       "    <tr style=\"text-align: right;\">\n",
       "      <th></th>\n",
       "      <th>musician_name</th>\n",
       "      <th>date_of_birth</th>\n",
       "      <th>date_of_death</th>\n",
       "      <th>cause_of_deathLabel</th>\n",
       "      <th>manner_of_deathLabel</th>\n",
       "      <th>country_of_citizenshipLabel</th>\n",
       "      <th>place_of_birthLabel</th>\n",
       "      <th>place_of_deathLabel</th>\n",
       "      <th>sex_or_genderLabel</th>\n",
       "    </tr>\n",
       "  </thead>\n",
       "  <tbody>\n",
       "    <tr>\n",
       "      <th>0</th>\n",
       "      <td>Tomasz Wróblewski</td>\n",
       "      <td>NaN</td>\n",
       "      <td>NaN</td>\n",
       "      <td>NaN</td>\n",
       "      <td>NaN</td>\n",
       "      <td>NaN</td>\n",
       "      <td>NaN</td>\n",
       "      <td>NaN</td>\n",
       "      <td>NaN</td>\n",
       "    </tr>\n",
       "    <tr>\n",
       "      <th>1</th>\n",
       "      <td>Patryk Dominik Sztyber</td>\n",
       "      <td>NaN</td>\n",
       "      <td>NaN</td>\n",
       "      <td>NaN</td>\n",
       "      <td>NaN</td>\n",
       "      <td>NaN</td>\n",
       "      <td>NaN</td>\n",
       "      <td>NaN</td>\n",
       "      <td>NaN</td>\n",
       "    </tr>\n",
       "    <tr>\n",
       "      <th>2</th>\n",
       "      <td>Kristian Wåhlin</td>\n",
       "      <td>NaN</td>\n",
       "      <td>NaN</td>\n",
       "      <td>NaN</td>\n",
       "      <td>NaN</td>\n",
       "      <td>NaN</td>\n",
       "      <td>NaN</td>\n",
       "      <td>NaN</td>\n",
       "      <td>NaN</td>\n",
       "    </tr>\n",
       "    <tr>\n",
       "      <th>3</th>\n",
       "      <td>Igor Pablo Cavalera</td>\n",
       "      <td>NaN</td>\n",
       "      <td>NaN</td>\n",
       "      <td>NaN</td>\n",
       "      <td>NaN</td>\n",
       "      <td>NaN</td>\n",
       "      <td>NaN</td>\n",
       "      <td>NaN</td>\n",
       "      <td>NaN</td>\n",
       "    </tr>\n",
       "    <tr>\n",
       "      <th>4</th>\n",
       "      <td>Alex Webster</td>\n",
       "      <td>NaN</td>\n",
       "      <td>NaN</td>\n",
       "      <td>NaN</td>\n",
       "      <td>NaN</td>\n",
       "      <td>NaN</td>\n",
       "      <td>NaN</td>\n",
       "      <td>NaN</td>\n",
       "      <td>NaN</td>\n",
       "    </tr>\n",
       "  </tbody>\n",
       "</table>\n",
       "</div>"
      ],
      "text/plain": [
       "            musician_name date_of_birth date_of_death cause_of_deathLabel  \\\n",
       "0       Tomasz Wróblewski           NaN           NaN                 NaN   \n",
       "1  Patryk Dominik Sztyber           NaN           NaN                 NaN   \n",
       "2         Kristian Wåhlin           NaN           NaN                 NaN   \n",
       "3     Igor Pablo Cavalera           NaN           NaN                 NaN   \n",
       "4            Alex Webster           NaN           NaN                 NaN   \n",
       "\n",
       "  manner_of_deathLabel country_of_citizenshipLabel place_of_birthLabel  \\\n",
       "0                  NaN                         NaN                 NaN   \n",
       "1                  NaN                         NaN                 NaN   \n",
       "2                  NaN                         NaN                 NaN   \n",
       "3                  NaN                         NaN                 NaN   \n",
       "4                  NaN                         NaN                 NaN   \n",
       "\n",
       "  place_of_deathLabel sex_or_genderLabel  \n",
       "0                 NaN                NaN  \n",
       "1                 NaN                NaN  \n",
       "2                 NaN                NaN  \n",
       "3                 NaN                NaN  \n",
       "4                 NaN                NaN  "
      ]
     },
     "execution_count": 45,
     "metadata": {},
     "output_type": "execute_result"
    }
   ],
   "source": [
    "df.head()"
   ]
  },
  {
   "cell_type": "markdown",
   "metadata": {},
   "source": [
    "<div class=\"alert alert-block alert-success\">\n",
    "⚠️TASK 4\n",
    "<br>\n",
    "\n",
    "Sort the base by musician names.\n",
    "\n",
    "</div>"
   ]
  },
  {
   "cell_type": "code",
   "execution_count": 52,
   "metadata": {},
   "outputs": [],
   "source": [
    "df = df.sort_values(by='musician_name').reset_index(drop=True)"
   ]
  },
  {
   "cell_type": "code",
   "execution_count": 53,
   "metadata": {},
   "outputs": [
    {
     "data": {
      "text/html": [
       "<div>\n",
       "<style scoped>\n",
       "    .dataframe tbody tr th:only-of-type {\n",
       "        vertical-align: middle;\n",
       "    }\n",
       "\n",
       "    .dataframe tbody tr th {\n",
       "        vertical-align: top;\n",
       "    }\n",
       "\n",
       "    .dataframe thead th {\n",
       "        text-align: right;\n",
       "    }\n",
       "</style>\n",
       "<table border=\"1\" class=\"dataframe\">\n",
       "  <thead>\n",
       "    <tr style=\"text-align: right;\">\n",
       "      <th></th>\n",
       "      <th>musician_name</th>\n",
       "      <th>date_of_birth</th>\n",
       "      <th>date_of_death</th>\n",
       "      <th>cause_of_deathLabel</th>\n",
       "      <th>manner_of_deathLabel</th>\n",
       "      <th>country_of_citizenshipLabel</th>\n",
       "      <th>place_of_birthLabel</th>\n",
       "      <th>place_of_deathLabel</th>\n",
       "      <th>sex_or_genderLabel</th>\n",
       "    </tr>\n",
       "  </thead>\n",
       "  <tbody>\n",
       "    <tr>\n",
       "      <th>0</th>\n",
       "      <td>Alex Webster</td>\n",
       "      <td>NaN</td>\n",
       "      <td>NaN</td>\n",
       "      <td>NaN</td>\n",
       "      <td>NaN</td>\n",
       "      <td>NaN</td>\n",
       "      <td>NaN</td>\n",
       "      <td>NaN</td>\n",
       "      <td>NaN</td>\n",
       "    </tr>\n",
       "    <tr>\n",
       "      <th>1</th>\n",
       "      <td>Allen West</td>\n",
       "      <td>NaN</td>\n",
       "      <td>NaN</td>\n",
       "      <td>NaN</td>\n",
       "      <td>NaN</td>\n",
       "      <td>NaN</td>\n",
       "      <td>NaN</td>\n",
       "      <td>NaN</td>\n",
       "      <td>NaN</td>\n",
       "    </tr>\n",
       "  </tbody>\n",
       "</table>\n",
       "</div>"
      ],
      "text/plain": [
       "  musician_name date_of_birth date_of_death cause_of_deathLabel  \\\n",
       "0  Alex Webster           NaN           NaN                 NaN   \n",
       "1    Allen West           NaN           NaN                 NaN   \n",
       "\n",
       "  manner_of_deathLabel country_of_citizenshipLabel place_of_birthLabel  \\\n",
       "0                  NaN                         NaN                 NaN   \n",
       "1                  NaN                         NaN                 NaN   \n",
       "\n",
       "  place_of_deathLabel sex_or_genderLabel  \n",
       "0                 NaN                NaN  \n",
       "1                 NaN                NaN  "
      ]
     },
     "execution_count": 53,
     "metadata": {},
     "output_type": "execute_result"
    }
   ],
   "source": [
    "df.head(2)"
   ]
  },
  {
   "cell_type": "markdown",
   "metadata": {},
   "source": [
    "<div class=\"alert alert-block alert-success\">\n",
    "⚠️TASK 5 (VERY DIFFICULT)\n",
    "<br>\n",
    "\n",
    "Please fill in the dataframe `df` with data from `df_json`. This is difficult, since the dataframes have different dimensions. So you need to devise a way of filling smaller `df` with squeezed info from `df_json`.\n",
    "<br><br>\n",
    "HINT: you need to use a loop and go through `col_dates` and `col_no_dates`, and in each iteration assign certain values to `df` using `df.loc[:, column]`. \n",
    "\n",
    "</div>"
   ]
  },
  {
   "cell_type": "code",
   "execution_count": 84,
   "metadata": {},
   "outputs": [
    {
     "data": {
      "text/plain": [
       "\"['Canada' 'France']\""
      ]
     },
     "execution_count": 84,
     "metadata": {},
     "output_type": "execute_result"
    }
   ],
   "source": [
    "str(df_json[df_json.instance_ofLabel=='Flo Mounier'].country_of_citizenshipLabel.unique())"
   ]
  },
  {
   "cell_type": "code",
   "execution_count": 79,
   "metadata": {},
   "outputs": [
    {
     "data": {
      "text/plain": [
       "'Flo Mounier'"
      ]
     },
     "execution_count": 79,
     "metadata": {},
     "output_type": "execute_result"
    }
   ],
   "source": [
    "name"
   ]
  },
  {
   "cell_type": "code",
   "execution_count": 80,
   "metadata": {},
   "outputs": [
    {
     "data": {
      "text/plain": [
       "'country_of_citizenshipLabel'"
      ]
     },
     "execution_count": 80,
     "metadata": {},
     "output_type": "execute_result"
    }
   ],
   "source": [
    "column"
   ]
  },
  {
   "cell_type": "code",
   "execution_count": 87,
   "metadata": {
    "scrolled": true
   },
   "outputs": [
    {
     "data": {
      "text/html": [
       "<div>\n",
       "<style scoped>\n",
       "    .dataframe tbody tr th:only-of-type {\n",
       "        vertical-align: middle;\n",
       "    }\n",
       "\n",
       "    .dataframe tbody tr th {\n",
       "        vertical-align: top;\n",
       "    }\n",
       "\n",
       "    .dataframe thead th {\n",
       "        text-align: right;\n",
       "    }\n",
       "</style>\n",
       "<table border=\"1\" class=\"dataframe\">\n",
       "  <thead>\n",
       "    <tr style=\"text-align: right;\">\n",
       "      <th></th>\n",
       "      <th>musician_name</th>\n",
       "      <th>date_of_birth</th>\n",
       "      <th>date_of_death</th>\n",
       "      <th>cause_of_deathLabel</th>\n",
       "      <th>manner_of_deathLabel</th>\n",
       "      <th>country_of_citizenshipLabel</th>\n",
       "      <th>place_of_birthLabel</th>\n",
       "      <th>place_of_deathLabel</th>\n",
       "      <th>sex_or_genderLabel</th>\n",
       "    </tr>\n",
       "  </thead>\n",
       "  <tbody>\n",
       "    <tr>\n",
       "      <th>0</th>\n",
       "      <td>Alex Webster</td>\n",
       "      <td>1969-10-25T00:00:00Z</td>\n",
       "      <td>NaN</td>\n",
       "      <td>NaN</td>\n",
       "      <td>NaN</td>\n",
       "      <td>United States of America</td>\n",
       "      <td>Akron</td>\n",
       "      <td>NaN</td>\n",
       "      <td>male</td>\n",
       "    </tr>\n",
       "    <tr>\n",
       "      <th>1</th>\n",
       "      <td>Allen West</td>\n",
       "      <td>1967-10-17T00:00:00Z</td>\n",
       "      <td>NaN</td>\n",
       "      <td>NaN</td>\n",
       "      <td>NaN</td>\n",
       "      <td>United States of America</td>\n",
       "      <td>Brandon</td>\n",
       "      <td>NaN</td>\n",
       "      <td>male</td>\n",
       "    </tr>\n",
       "    <tr>\n",
       "      <th>2</th>\n",
       "      <td>Anders Hammer</td>\n",
       "      <td>1980-04-03T00:00:00Z</td>\n",
       "      <td>NaN</td>\n",
       "      <td>NaN</td>\n",
       "      <td>NaN</td>\n",
       "      <td>Sweden</td>\n",
       "      <td>NaN</td>\n",
       "      <td>NaN</td>\n",
       "      <td>male</td>\n",
       "    </tr>\n",
       "    <tr>\n",
       "      <th>3</th>\n",
       "      <td>Ares</td>\n",
       "      <td>1973-06-03T00:00:00Z</td>\n",
       "      <td>NaN</td>\n",
       "      <td>NaN</td>\n",
       "      <td>NaN</td>\n",
       "      <td>Norway</td>\n",
       "      <td>Bergen</td>\n",
       "      <td>NaN</td>\n",
       "      <td>male</td>\n",
       "    </tr>\n",
       "  </tbody>\n",
       "</table>\n",
       "</div>"
      ],
      "text/plain": [
       "   musician_name         date_of_birth date_of_death cause_of_deathLabel  \\\n",
       "0   Alex Webster  1969-10-25T00:00:00Z           NaN                 NaN   \n",
       "1     Allen West  1967-10-17T00:00:00Z           NaN                 NaN   \n",
       "2  Anders Hammer  1980-04-03T00:00:00Z           NaN                 NaN   \n",
       "3           Ares  1973-06-03T00:00:00Z           NaN                 NaN   \n",
       "\n",
       "  manner_of_deathLabel country_of_citizenshipLabel place_of_birthLabel  \\\n",
       "0                  NaN    United States of America               Akron   \n",
       "1                  NaN    United States of America             Brandon   \n",
       "2                  NaN                      Sweden                 NaN   \n",
       "3                  NaN                      Norway              Bergen   \n",
       "\n",
       "  place_of_deathLabel sex_or_genderLabel  \n",
       "0                 NaN               male  \n",
       "1                 NaN               male  \n",
       "2                 NaN               male  \n",
       "3                 NaN               male  "
      ]
     },
     "execution_count": 87,
     "metadata": {},
     "output_type": "execute_result"
    }
   ],
   "source": [
    "df.head(4)"
   ]
  },
  {
   "cell_type": "code",
   "execution_count": 93,
   "metadata": {},
   "outputs": [
    {
     "data": {
      "text/plain": [
       "\"['Canada' 'France']\""
      ]
     },
     "execution_count": 93,
     "metadata": {},
     "output_type": "execute_result"
    }
   ],
   "source": [
    "df[df.musician_name=='Flo Mounier'].country_of_citizenshipLabel.values[0]"
   ]
  },
  {
   "cell_type": "code",
   "execution_count": 92,
   "metadata": {},
   "outputs": [
    {
     "data": {
      "text/plain": [
       "str"
      ]
     },
     "execution_count": 92,
     "metadata": {},
     "output_type": "execute_result"
    }
   ],
   "source": [
    "type(df[df.musician_name=='Flo Mounier'].country_of_citizenshipLabel.values[0])"
   ]
  },
  {
   "cell_type": "code",
   "execution_count": 56,
   "metadata": {},
   "outputs": [
    {
     "data": {
      "text/html": [
       "<div>\n",
       "<style scoped>\n",
       "    .dataframe tbody tr th:only-of-type {\n",
       "        vertical-align: middle;\n",
       "    }\n",
       "\n",
       "    .dataframe tbody tr th {\n",
       "        vertical-align: top;\n",
       "    }\n",
       "\n",
       "    .dataframe thead th {\n",
       "        text-align: right;\n",
       "    }\n",
       "</style>\n",
       "<table border=\"1\" class=\"dataframe\">\n",
       "  <thead>\n",
       "    <tr style=\"text-align: right;\">\n",
       "      <th></th>\n",
       "      <th>musician_name</th>\n",
       "      <th>date_of_birth</th>\n",
       "      <th>date_of_death</th>\n",
       "      <th>cause_of_deathLabel</th>\n",
       "      <th>manner_of_deathLabel</th>\n",
       "      <th>country_of_citizenshipLabel</th>\n",
       "      <th>place_of_birthLabel</th>\n",
       "      <th>place_of_deathLabel</th>\n",
       "      <th>sex_or_genderLabel</th>\n",
       "    </tr>\n",
       "  </thead>\n",
       "  <tbody>\n",
       "    <tr>\n",
       "      <th>0</th>\n",
       "      <td>Alex Webster</td>\n",
       "      <td>NaN</td>\n",
       "      <td>NaN</td>\n",
       "      <td>NaN</td>\n",
       "      <td>NaN</td>\n",
       "      <td>NaN</td>\n",
       "      <td>NaN</td>\n",
       "      <td>NaN</td>\n",
       "      <td>NaN</td>\n",
       "    </tr>\n",
       "  </tbody>\n",
       "</table>\n",
       "</div>"
      ],
      "text/plain": [
       "  musician_name date_of_birth date_of_death cause_of_deathLabel  \\\n",
       "0  Alex Webster           NaN           NaN                 NaN   \n",
       "\n",
       "  manner_of_deathLabel country_of_citizenshipLabel place_of_birthLabel  \\\n",
       "0                  NaN                         NaN                 NaN   \n",
       "\n",
       "  place_of_deathLabel sex_or_genderLabel  \n",
       "0                 NaN                NaN  "
      ]
     },
     "execution_count": 56,
     "metadata": {},
     "output_type": "execute_result"
    }
   ],
   "source": [
    "df.query('musician_name == \"Alex Webster\"')"
   ]
  },
  {
   "cell_type": "code",
   "execution_count": 58,
   "metadata": {},
   "outputs": [
    {
     "data": {
      "text/html": [
       "<div>\n",
       "<style scoped>\n",
       "    .dataframe tbody tr th:only-of-type {\n",
       "        vertical-align: middle;\n",
       "    }\n",
       "\n",
       "    .dataframe tbody tr th {\n",
       "        vertical-align: top;\n",
       "    }\n",
       "\n",
       "    .dataframe thead th {\n",
       "        text-align: right;\n",
       "    }\n",
       "</style>\n",
       "<table border=\"1\" class=\"dataframe\">\n",
       "  <thead>\n",
       "    <tr style=\"text-align: right;\">\n",
       "      <th></th>\n",
       "      <th>instance_of</th>\n",
       "      <th>instance_ofLabel</th>\n",
       "      <th>date_of_birth</th>\n",
       "      <th>country_of_citizenship</th>\n",
       "      <th>country_of_citizenshipLabel</th>\n",
       "      <th>instrument</th>\n",
       "      <th>instrumentLabel</th>\n",
       "      <th>occupation</th>\n",
       "      <th>occupationLabel</th>\n",
       "      <th>sex_or_gender</th>\n",
       "      <th>sex_or_genderLabel</th>\n",
       "      <th>place_of_birth</th>\n",
       "      <th>place_of_birthLabel</th>\n",
       "      <th>date_of_death</th>\n",
       "      <th>cause_of_death</th>\n",
       "      <th>cause_of_deathLabel</th>\n",
       "      <th>manner_of_death</th>\n",
       "      <th>manner_of_deathLabel</th>\n",
       "      <th>place_of_death</th>\n",
       "      <th>place_of_deathLabel</th>\n",
       "    </tr>\n",
       "  </thead>\n",
       "  <tbody>\n",
       "    <tr>\n",
       "      <th>33</th>\n",
       "      <td>http://www.wikidata.org/entity/Q201716</td>\n",
       "      <td>Alex Webster</td>\n",
       "      <td>1969-10-25T00:00:00Z</td>\n",
       "      <td>http://www.wikidata.org/entity/Q30</td>\n",
       "      <td>United States of America</td>\n",
       "      <td>http://www.wikidata.org/entity/Q6607</td>\n",
       "      <td>guitar</td>\n",
       "      <td>http://www.wikidata.org/entity/Q639669</td>\n",
       "      <td>musician</td>\n",
       "      <td>http://www.wikidata.org/entity/Q6581097</td>\n",
       "      <td>male</td>\n",
       "      <td>http://www.wikidata.org/entity/Q2538400</td>\n",
       "      <td>Akron</td>\n",
       "      <td>NaN</td>\n",
       "      <td>NaN</td>\n",
       "      <td>NaN</td>\n",
       "      <td>NaN</td>\n",
       "      <td>NaN</td>\n",
       "      <td>NaN</td>\n",
       "      <td>NaN</td>\n",
       "    </tr>\n",
       "    <tr>\n",
       "      <th>34</th>\n",
       "      <td>http://www.wikidata.org/entity/Q201716</td>\n",
       "      <td>Alex Webster</td>\n",
       "      <td>1969-10-25T00:00:00Z</td>\n",
       "      <td>http://www.wikidata.org/entity/Q30</td>\n",
       "      <td>United States of America</td>\n",
       "      <td>http://www.wikidata.org/entity/Q46185</td>\n",
       "      <td>bass guitar</td>\n",
       "      <td>http://www.wikidata.org/entity/Q639669</td>\n",
       "      <td>musician</td>\n",
       "      <td>http://www.wikidata.org/entity/Q6581097</td>\n",
       "      <td>male</td>\n",
       "      <td>http://www.wikidata.org/entity/Q2538400</td>\n",
       "      <td>Akron</td>\n",
       "      <td>NaN</td>\n",
       "      <td>NaN</td>\n",
       "      <td>NaN</td>\n",
       "      <td>NaN</td>\n",
       "      <td>NaN</td>\n",
       "      <td>NaN</td>\n",
       "      <td>NaN</td>\n",
       "    </tr>\n",
       "    <tr>\n",
       "      <th>35</th>\n",
       "      <td>http://www.wikidata.org/entity/Q201716</td>\n",
       "      <td>Alex Webster</td>\n",
       "      <td>1969-10-25T00:00:00Z</td>\n",
       "      <td>http://www.wikidata.org/entity/Q30</td>\n",
       "      <td>United States of America</td>\n",
       "      <td>http://www.wikidata.org/entity/Q6607</td>\n",
       "      <td>guitar</td>\n",
       "      <td>http://www.wikidata.org/entity/Q855091</td>\n",
       "      <td>guitarist</td>\n",
       "      <td>http://www.wikidata.org/entity/Q6581097</td>\n",
       "      <td>male</td>\n",
       "      <td>http://www.wikidata.org/entity/Q2538400</td>\n",
       "      <td>Akron</td>\n",
       "      <td>NaN</td>\n",
       "      <td>NaN</td>\n",
       "      <td>NaN</td>\n",
       "      <td>NaN</td>\n",
       "      <td>NaN</td>\n",
       "      <td>NaN</td>\n",
       "      <td>NaN</td>\n",
       "    </tr>\n",
       "    <tr>\n",
       "      <th>36</th>\n",
       "      <td>http://www.wikidata.org/entity/Q201716</td>\n",
       "      <td>Alex Webster</td>\n",
       "      <td>1969-10-25T00:00:00Z</td>\n",
       "      <td>http://www.wikidata.org/entity/Q30</td>\n",
       "      <td>United States of America</td>\n",
       "      <td>http://www.wikidata.org/entity/Q46185</td>\n",
       "      <td>bass guitar</td>\n",
       "      <td>http://www.wikidata.org/entity/Q855091</td>\n",
       "      <td>guitarist</td>\n",
       "      <td>http://www.wikidata.org/entity/Q6581097</td>\n",
       "      <td>male</td>\n",
       "      <td>http://www.wikidata.org/entity/Q2538400</td>\n",
       "      <td>Akron</td>\n",
       "      <td>NaN</td>\n",
       "      <td>NaN</td>\n",
       "      <td>NaN</td>\n",
       "      <td>NaN</td>\n",
       "      <td>NaN</td>\n",
       "      <td>NaN</td>\n",
       "      <td>NaN</td>\n",
       "    </tr>\n",
       "  </tbody>\n",
       "</table>\n",
       "</div>"
      ],
      "text/plain": [
       "                               instance_of instance_ofLabel  \\\n",
       "33  http://www.wikidata.org/entity/Q201716     Alex Webster   \n",
       "34  http://www.wikidata.org/entity/Q201716     Alex Webster   \n",
       "35  http://www.wikidata.org/entity/Q201716     Alex Webster   \n",
       "36  http://www.wikidata.org/entity/Q201716     Alex Webster   \n",
       "\n",
       "           date_of_birth              country_of_citizenship  \\\n",
       "33  1969-10-25T00:00:00Z  http://www.wikidata.org/entity/Q30   \n",
       "34  1969-10-25T00:00:00Z  http://www.wikidata.org/entity/Q30   \n",
       "35  1969-10-25T00:00:00Z  http://www.wikidata.org/entity/Q30   \n",
       "36  1969-10-25T00:00:00Z  http://www.wikidata.org/entity/Q30   \n",
       "\n",
       "   country_of_citizenshipLabel                             instrument  \\\n",
       "33    United States of America   http://www.wikidata.org/entity/Q6607   \n",
       "34    United States of America  http://www.wikidata.org/entity/Q46185   \n",
       "35    United States of America   http://www.wikidata.org/entity/Q6607   \n",
       "36    United States of America  http://www.wikidata.org/entity/Q46185   \n",
       "\n",
       "   instrumentLabel                              occupation occupationLabel  \\\n",
       "33          guitar  http://www.wikidata.org/entity/Q639669        musician   \n",
       "34     bass guitar  http://www.wikidata.org/entity/Q639669        musician   \n",
       "35          guitar  http://www.wikidata.org/entity/Q855091       guitarist   \n",
       "36     bass guitar  http://www.wikidata.org/entity/Q855091       guitarist   \n",
       "\n",
       "                              sex_or_gender sex_or_genderLabel  \\\n",
       "33  http://www.wikidata.org/entity/Q6581097               male   \n",
       "34  http://www.wikidata.org/entity/Q6581097               male   \n",
       "35  http://www.wikidata.org/entity/Q6581097               male   \n",
       "36  http://www.wikidata.org/entity/Q6581097               male   \n",
       "\n",
       "                             place_of_birth place_of_birthLabel date_of_death  \\\n",
       "33  http://www.wikidata.org/entity/Q2538400               Akron           NaN   \n",
       "34  http://www.wikidata.org/entity/Q2538400               Akron           NaN   \n",
       "35  http://www.wikidata.org/entity/Q2538400               Akron           NaN   \n",
       "36  http://www.wikidata.org/entity/Q2538400               Akron           NaN   \n",
       "\n",
       "   cause_of_death cause_of_deathLabel manner_of_death manner_of_deathLabel  \\\n",
       "33            NaN                 NaN             NaN                  NaN   \n",
       "34            NaN                 NaN             NaN                  NaN   \n",
       "35            NaN                 NaN             NaN                  NaN   \n",
       "36            NaN                 NaN             NaN                  NaN   \n",
       "\n",
       "   place_of_death place_of_deathLabel  \n",
       "33            NaN                 NaN  \n",
       "34            NaN                 NaN  \n",
       "35            NaN                 NaN  \n",
       "36            NaN                 NaN  "
      ]
     },
     "execution_count": 58,
     "metadata": {},
     "output_type": "execute_result"
    }
   ],
   "source": [
    "df_json.query('instance_ofLabel == \"Alex Webster\"')"
   ]
  },
  {
   "cell_type": "code",
   "execution_count": 61,
   "metadata": {},
   "outputs": [
    {
     "data": {
      "text/plain": [
       "4"
      ]
     },
     "execution_count": 61,
     "metadata": {},
     "output_type": "execute_result"
    }
   ],
   "source": [
    "sum(df_json.instance_ofLabel==\"Alex Webster\")"
   ]
  },
  {
   "cell_type": "code",
   "execution_count": 66,
   "metadata": {},
   "outputs": [
    {
     "data": {
      "text/plain": [
       "['date_of_birth',\n",
       " 'date_of_death',\n",
       " 'cause_of_deathLabel',\n",
       " 'manner_of_deathLabel',\n",
       " 'country_of_citizenshipLabel',\n",
       " 'place_of_birthLabel',\n",
       " 'place_of_deathLabel',\n",
       " 'sex_or_genderLabel']"
      ]
     },
     "execution_count": 66,
     "metadata": {},
     "output_type": "execute_result"
    }
   ],
   "source": [
    "my_columns[1:]"
   ]
  },
  {
   "cell_type": "code",
   "execution_count": 77,
   "metadata": {},
   "outputs": [
    {
     "data": {
      "text/plain": [
       "array(['1969-10-25T00:00:00Z', nan, 'United States of America', 'Akron',\n",
       "       'male'], dtype=object)"
      ]
     },
     "execution_count": 77,
     "metadata": {},
     "output_type": "execute_result"
    }
   ],
   "source": [
    "df_json.loc[df_json.instance_ofLabel==\"Alex Webster\", my_columns[1:]].loc[33, :].unique()"
   ]
  },
  {
   "cell_type": "code",
   "execution_count": 85,
   "metadata": {
    "scrolled": true
   },
   "outputs": [
    {
     "name": "stderr",
     "output_type": "stream",
     "text": [
      "C:\\ProgramData\\Anaconda3\\lib\\site-packages\\ipykernel_launcher.py:1: TqdmDeprecationWarning: This function will be removed in tqdm==5.0.0\n",
      "Please use `tqdm.notebook.tqdm` instead of `tqdm.tqdm_notebook`\n",
      "  \"\"\"Entry point for launching an IPython kernel.\n"
     ]
    },
    {
     "data": {
      "application/vnd.jupyter.widget-view+json": {
       "model_id": "51081d90d9ee438280a6c6ede6ed0081",
       "version_major": 2,
       "version_minor": 0
      },
      "text/plain": [
       "HBox(children=(FloatProgress(value=0.0), HTML(value='')))"
      ]
     },
     "metadata": {},
     "output_type": "display_data"
    },
    {
     "name": "stdout",
     "output_type": "stream",
     "text": [
      "\n"
     ]
    }
   ],
   "source": [
    "# CREATING the final dataframe\n",
    "\n",
    "for name in tqdm(df.musician_name):\n",
    "    for column in my_columns[1:]:\n",
    "        try:\n",
    "            df.loc[df.musician_name==name, column] = df_json.loc[df_json.instance_ofLabel==name, column].unique()\n",
    "        except:\n",
    "            df.loc[df.musician_name==name, column] = str(df_json.loc[df_json.instance_ofLabel==name, column].unique())"
   ]
  },
  {
   "cell_type": "code",
   "execution_count": null,
   "metadata": {},
   "outputs": [],
   "source": [
    "# OR\n",
    "# we are looping through the unique musicians and assigning the first row of each unique musician \n",
    "# from df_json to df\n",
    "\n",
    "for idx, person in enumerate(df.musician_name):\n",
    "    df.loc[idx, col_dates+col_no_dates] = df_json.query('instance_ofLabel == \"{}\"'.   # enter added for convinience\n",
    "                                                        format(person)).reset_index().loc[0, col_dates+col_no_dates]"
   ]
  },
  {
   "cell_type": "markdown",
   "metadata": {},
   "source": [
    "<div class=\"alert alert-block alert-warning\">\n",
    "📺 WATCH AT HOME\n",
    "<br>\n",
    "\n",
    "In the above code we have used the very important functions `enumerate` and `query`:\n",
    "\n",
    "[Enumerate - Intermediate Python Programming](https://www.youtube.com/watch?v=bOGmYvtw-kk)\n",
    "<br>\n",
    "[Python Pandas | Querying Dataframe](https://www.youtube.com/watch?v=6WTFF-mKZX8)\n",
    "\n",
    "</div>"
   ]
  },
  {
   "cell_type": "markdown",
   "metadata": {},
   "source": [
    "<div class=\"alert alert-block alert-success\">\n",
    "⚠️TASK 6\n",
    "<br>\n",
    "\n",
    "Please replace the objects in the columns with dates with the date format using the function `pd.to_datetime()`.\n",
    "HINT: this function should take the parameter `format = '%Y-%m-%dT%H:%M:%SZ'` - this is exactly the format of our dates in this file.\n",
    "\n",
    "</div>"
   ]
  },
  {
   "cell_type": "code",
   "execution_count": 107,
   "metadata": {},
   "outputs": [
    {
     "data": {
      "text/plain": [
       "['date_of_birth', 'date_of_death']"
      ]
     },
     "execution_count": 107,
     "metadata": {},
     "output_type": "execute_result"
    }
   ],
   "source": [
    "col_dates"
   ]
  },
  {
   "cell_type": "code",
   "execution_count": 108,
   "metadata": {},
   "outputs": [],
   "source": [
    "for column in col_dates:\n",
    "    df[column] = pd.to_datetime(df[column], format = '%Y-%m-%dT%H:%M:%SZ', errors='coerce')"
   ]
  },
  {
   "cell_type": "code",
   "execution_count": 109,
   "metadata": {},
   "outputs": [
    {
     "data": {
      "text/plain": [
       "Timestamp('1969-10-25 00:00:00')"
      ]
     },
     "execution_count": 109,
     "metadata": {},
     "output_type": "execute_result"
    }
   ],
   "source": [
    "df.date_of_birth[0]"
   ]
  },
  {
   "cell_type": "code",
   "execution_count": 110,
   "metadata": {},
   "outputs": [
    {
     "data": {
      "text/plain": [
       "pandas._libs.tslibs.timestamps.Timestamp"
      ]
     },
     "execution_count": 110,
     "metadata": {},
     "output_type": "execute_result"
    }
   ],
   "source": [
    "type(df.date_of_birth[0])"
   ]
  },
  {
   "cell_type": "code",
   "execution_count": 111,
   "metadata": {},
   "outputs": [
    {
     "name": "stdout",
     "output_type": "stream",
     "text": [
      "<class 'pandas.core.frame.DataFrame'>\n",
      "RangeIndex: 100 entries, 0 to 99\n",
      "Data columns (total 9 columns):\n",
      " #   Column                       Non-Null Count  Dtype         \n",
      "---  ------                       --------------  -----         \n",
      " 0   musician_name                100 non-null    object        \n",
      " 1   date_of_birth                95 non-null     datetime64[ns]\n",
      " 2   date_of_death                12 non-null     datetime64[ns]\n",
      " 3   cause_of_deathLabel          5 non-null      object        \n",
      " 4   manner_of_deathLabel         6 non-null      object        \n",
      " 5   country_of_citizenshipLabel  97 non-null     object        \n",
      " 6   place_of_birthLabel          81 non-null     object        \n",
      " 7   place_of_deathLabel          5 non-null      object        \n",
      " 8   sex_or_genderLabel           100 non-null    object        \n",
      "dtypes: datetime64[ns](2), object(7)\n",
      "memory usage: 7.2+ KB\n"
     ]
    }
   ],
   "source": [
    "df.info()"
   ]
  },
  {
   "cell_type": "markdown",
   "metadata": {},
   "source": [
    "<div class=\"alert alert-block alert-success\">\n",
    "⚠️TASK 7\n",
    "<br>\n",
    "\n",
    "Add a group name (the music genre name) to the dataframe as the last column.<br>\n",
    "HINT: you can use the json file name to do it.\n",
    "\n",
    "</div>"
   ]
  },
  {
   "cell_type": "code",
   "execution_count": null,
   "metadata": {},
   "outputs": [],
   "source": [
    "# # this will work, however, this is added manually\n",
    "# df['Genre'] = 'death metal'"
   ]
  },
  {
   "cell_type": "code",
   "execution_count": 112,
   "metadata": {
    "collapsed": true
   },
   "outputs": [
    {
     "data": {
      "text/plain": [
       "'C:\\\\Users\\\\leont\\\\Google Drive\\\\CLASSES\\\\ALK 2019-2020\\\\Using Python\\\\python_class_3_BASIC\\\\DATA\\\\death_death_metal.json'"
      ]
     },
     "execution_count": 112,
     "metadata": {},
     "output_type": "execute_result"
    }
   ],
   "source": [
    "FILES_JSON[0]"
   ]
  },
  {
   "cell_type": "code",
   "execution_count": 116,
   "metadata": {
    "collapsed": true
   },
   "outputs": [
    {
     "data": {
      "text/plain": [
       "['C:\\\\Users\\\\leont\\\\Google Drive\\\\CLASSES\\\\ALK 2019-2020\\\\Using Python\\\\python_class_3_BASIC\\\\DATA\\\\death_death_metal.json',\n",
       " 'C:\\\\Users\\\\leont\\\\Google Drive\\\\CLASSES\\\\ALK 2019-2020\\\\Using Python\\\\python_class_3_BASIC\\\\DATA\\\\death_hip_hop_music.json',\n",
       " 'C:\\\\Users\\\\leont\\\\Google Drive\\\\CLASSES\\\\ALK 2019-2020\\\\Using Python\\\\python_class_3_BASIC\\\\DATA\\\\death_jazz.json',\n",
       " 'C:\\\\Users\\\\leont\\\\Google Drive\\\\CLASSES\\\\ALK 2019-2020\\\\Using Python\\\\python_class_3_BASIC\\\\DATA\\\\death_pop_music.json']"
      ]
     },
     "execution_count": 116,
     "metadata": {},
     "output_type": "execute_result"
    }
   ],
   "source": [
    "FILES_JSON"
   ]
  },
  {
   "cell_type": "code",
   "execution_count": 124,
   "metadata": {},
   "outputs": [],
   "source": [
    "# this is a much better, programmatic answer!\n",
    "# YOU HAVE TO COMMENT OUT THE CODE LINE BELOW THAT YOU ARE NOT USING; otherwise you'll get an error\n",
    "# for Windows\n",
    "df['genre'] = FILES_JSON[0].split('\\\\')[-1].split('.')[0][6:]\n",
    "# for Mac/Linux\n",
    "df['genre'] = FILES_JSON[0].split('/')[-1].split('.')[0][6:]"
   ]
  },
  {
   "cell_type": "code",
   "execution_count": 125,
   "metadata": {},
   "outputs": [
    {
     "data": {
      "text/html": [
       "<div>\n",
       "<style scoped>\n",
       "    .dataframe tbody tr th:only-of-type {\n",
       "        vertical-align: middle;\n",
       "    }\n",
       "\n",
       "    .dataframe tbody tr th {\n",
       "        vertical-align: top;\n",
       "    }\n",
       "\n",
       "    .dataframe thead th {\n",
       "        text-align: right;\n",
       "    }\n",
       "</style>\n",
       "<table border=\"1\" class=\"dataframe\">\n",
       "  <thead>\n",
       "    <tr style=\"text-align: right;\">\n",
       "      <th></th>\n",
       "      <th>musician_name</th>\n",
       "      <th>date_of_birth</th>\n",
       "      <th>date_of_death</th>\n",
       "      <th>cause_of_deathLabel</th>\n",
       "      <th>manner_of_deathLabel</th>\n",
       "      <th>country_of_citizenshipLabel</th>\n",
       "      <th>place_of_birthLabel</th>\n",
       "      <th>place_of_deathLabel</th>\n",
       "      <th>sex_or_genderLabel</th>\n",
       "      <th>genre</th>\n",
       "    </tr>\n",
       "  </thead>\n",
       "  <tbody>\n",
       "    <tr>\n",
       "      <th>0</th>\n",
       "      <td>Alex Webster</td>\n",
       "      <td>1969-10-25</td>\n",
       "      <td>NaT</td>\n",
       "      <td>NaN</td>\n",
       "      <td>NaN</td>\n",
       "      <td>United States of America</td>\n",
       "      <td>Akron</td>\n",
       "      <td>NaN</td>\n",
       "      <td>male</td>\n",
       "      <td>death_metal</td>\n",
       "    </tr>\n",
       "    <tr>\n",
       "      <th>1</th>\n",
       "      <td>Allen West</td>\n",
       "      <td>1967-10-17</td>\n",
       "      <td>NaT</td>\n",
       "      <td>NaN</td>\n",
       "      <td>NaN</td>\n",
       "      <td>United States of America</td>\n",
       "      <td>Brandon</td>\n",
       "      <td>NaN</td>\n",
       "      <td>male</td>\n",
       "      <td>death_metal</td>\n",
       "    </tr>\n",
       "  </tbody>\n",
       "</table>\n",
       "</div>"
      ],
      "text/plain": [
       "  musician_name date_of_birth date_of_death cause_of_deathLabel  \\\n",
       "0  Alex Webster    1969-10-25           NaT                 NaN   \n",
       "1    Allen West    1967-10-17           NaT                 NaN   \n",
       "\n",
       "  manner_of_deathLabel country_of_citizenshipLabel place_of_birthLabel  \\\n",
       "0                  NaN    United States of America               Akron   \n",
       "1                  NaN    United States of America             Brandon   \n",
       "\n",
       "  place_of_deathLabel sex_or_genderLabel        genre  \n",
       "0                 NaN               male  death_metal  \n",
       "1                 NaN               male  death_metal  "
      ]
     },
     "execution_count": 125,
     "metadata": {},
     "output_type": "execute_result"
    }
   ],
   "source": [
    "df.head(2)"
   ]
  },
  {
   "cell_type": "markdown",
   "metadata": {},
   "source": [
    "<div class=\"alert alert-block alert-success\">\n",
    "⚠️TASK 8 (DIFFICULT)\n",
    "<br>\n",
    "\n",
    "Please create a loop now, that would load each file from `FILES_JSON`, and then do the above operations on each of them in the loop. Then, add each file to a grand dataframe (merging all files together in one big dataframe)!\n",
    "\n",
    "</div>"
   ]
  },
  {
   "cell_type": "code",
   "execution_count": null,
   "metadata": {},
   "outputs": [],
   "source": [
    "groups = ['Metal', 'Jazz', 'Pop Music', 'Hip Hop Music']\n",
    "\n",
    "df_final = pd.DataFrame(columns=['musician_name']+col_dates+col_no_dates)\n",
    "\n",
    "for n, genre in enumerate(groups):\n",
    "    print(n, genre)\n",
    "    with open(FILES_JSON[n], encoding='utf-8', errors='ignore') as json_data:\n",
    "         data = json.load(json_data, strict=False)\n",
    "            \n",
    "    # create a new dataframe, and normalize it\n",
    "    df_json = pd.DataFrame.from_dict(json_normalize(data), orient='columns')\n",
    "    \n",
    "    df = pd.DataFrame(index= range(len(df_json.instance_ofLabel.unique())), \n",
    "                      columns=['musician_name']+col_dates+col_no_dates)\n",
    "    \n",
    "    df.musician_name = df_json.instance_ofLabel.unique()\n",
    "    \n",
    "    df = df.sort_values(by=['musician_name'], axis=0)\n",
    "    \n",
    "    df.reset_index(inplace=True, drop=True)\n",
    "    \n",
    "    for i in df.musician_name:\n",
    "        for column in df.columns[1:]:\n",
    "            try:\n",
    "                df.loc[df.musician_name==i, column] = df_json.loc[df_json.instance_ofLabel==i,column].unique()\n",
    "            except:\n",
    "                df.loc[df.musician_name==i, column] = str(df_json.loc[df_json.instance_ofLabel==i,column].unique())\n",
    "\n",
    "    for col in col_dates:\n",
    "        df[col] = pd.to_datetime(df[col], format = '%Y-%m-%dT%H:%M:%SZ', errors='coerce')\n",
    "    \n",
    "    df['genre'] = genre\n",
    "    \n",
    "    df_final = pd.concat([df_final,df],ignore_index=True)\n"
   ]
  },
  {
   "cell_type": "markdown",
   "metadata": {},
   "source": [
    "# Below, we are importing the final code written by me, for setting up the databases and merging them into one dataframe"
   ]
  },
  {
   "cell_type": "code",
   "execution_count": 6,
   "metadata": {},
   "outputs": [],
   "source": [
    "PTH = r'C:\\Users\\HP\\Dysk Google\\CLASSES\\ALK 2020-2021\\Introduction to Python and Machine Learning\\Class 4\\DATA'\n",
    "\n",
    "# the below code is creating a list of all file addresses - json files\n",
    "FILES_JSON = glob.glob(op.join(PTH, '*.json')) "
   ]
  },
  {
   "cell_type": "code",
   "execution_count": 9,
   "metadata": {},
   "outputs": [],
   "source": [
    "from create_dataframe_music import create_music_df\n",
    "\n",
    "from my_imports import *\n",
    "%matplotlib inline"
   ]
  },
  {
   "cell_type": "code",
   "execution_count": 10,
   "metadata": {},
   "outputs": [
    {
     "name": "stdout",
     "output_type": "stream",
     "text": [
      "There are 4 genres of music to process...\n",
      "\n",
      "\n"
     ]
    },
    {
     "data": {
      "application/vnd.jupyter.widget-view+json": {
       "model_id": "96b42dfcd9044a34bcaa7a3ed3260980",
       "version_major": 2,
       "version_minor": 0
      },
      "text/plain": [
       "HBox(children=(FloatProgress(value=1.0, bar_style='info', max=1.0), HTML(value='')))"
      ]
     },
     "metadata": {},
     "output_type": "display_data"
    },
    {
     "name": "stdout",
     "output_type": "stream",
     "text": [
      "******************* Starting the file: death_metal...\n",
      "---=== OK ===--- There are no persons with the same name in the DB\n",
      "Filling the data with list of lists from json...\n",
      "Calculating years of living...\n",
      "\n",
      "\n",
      "******************* Starting the file: hip_hop_music...\n",
      "---=== OK ===--- There are no persons with the same name in the DB\n",
      "Filling the data with list of lists from json...\n",
      "Calculating years of living...\n",
      "\n",
      "\n",
      "******************* Starting the file: jazz...\n",
      "--------======WARNING======-------- There are persons with the same name in the DB\n",
      "Filling the data with list of lists from json...\n",
      "Calculating years of living...\n",
      "\n",
      "\n",
      "******************* Starting the file: pop_music...\n",
      "---=== OK ===--- There are no persons with the same name in the DB\n",
      "Filling the data with list of lists from json...\n",
      "Calculating years of living...\n",
      "\n",
      "\n",
      "\n"
     ]
    }
   ],
   "source": [
    "DB_final = create_music_df(file_name=FILES_JSON)"
   ]
  },
  {
   "cell_type": "code",
   "execution_count": 11,
   "metadata": {},
   "outputs": [
    {
     "data": {
      "text/html": [
       "<div>\n",
       "<style scoped>\n",
       "    .dataframe tbody tr th:only-of-type {\n",
       "        vertical-align: middle;\n",
       "    }\n",
       "\n",
       "    .dataframe tbody tr th {\n",
       "        vertical-align: top;\n",
       "    }\n",
       "\n",
       "    .dataframe thead th {\n",
       "        text-align: right;\n",
       "    }\n",
       "</style>\n",
       "<table border=\"1\" class=\"dataframe\">\n",
       "  <thead>\n",
       "    <tr style=\"text-align: right;\">\n",
       "      <th></th>\n",
       "      <th>instance_ofLabel</th>\n",
       "      <th>instance_of</th>\n",
       "      <th>date_of_birth</th>\n",
       "      <th>date_of_death</th>\n",
       "      <th>cause_of_deathLabel</th>\n",
       "      <th>manner_of_deathLabel</th>\n",
       "      <th>country_of_citizenshipLabel</th>\n",
       "      <th>place_of_birthLabel</th>\n",
       "      <th>place_of_deathLabel</th>\n",
       "      <th>sex_or_genderLabel</th>\n",
       "      <th>quantity_instrumentLabel</th>\n",
       "      <th>quantity_occupationLabel</th>\n",
       "      <th>years_of_life</th>\n",
       "      <th>group</th>\n",
       "    </tr>\n",
       "  </thead>\n",
       "  <tbody>\n",
       "    <tr>\n",
       "      <th>0</th>\n",
       "      <td>Alex Webster</td>\n",
       "      <td>NaN</td>\n",
       "      <td>1969-10-25</td>\n",
       "      <td>NaT</td>\n",
       "      <td>NaN</td>\n",
       "      <td>NaN</td>\n",
       "      <td>United States of America</td>\n",
       "      <td>Akron</td>\n",
       "      <td>NaN</td>\n",
       "      <td>male</td>\n",
       "      <td>2.0</td>\n",
       "      <td>2</td>\n",
       "      <td>NaN</td>\n",
       "      <td>death_metal</td>\n",
       "    </tr>\n",
       "    <tr>\n",
       "      <th>1</th>\n",
       "      <td>Allen West</td>\n",
       "      <td>NaN</td>\n",
       "      <td>1967-10-17</td>\n",
       "      <td>NaT</td>\n",
       "      <td>NaN</td>\n",
       "      <td>NaN</td>\n",
       "      <td>United States of America</td>\n",
       "      <td>Brandon</td>\n",
       "      <td>NaN</td>\n",
       "      <td>male</td>\n",
       "      <td>1.0</td>\n",
       "      <td>1</td>\n",
       "      <td>NaN</td>\n",
       "      <td>death_metal</td>\n",
       "    </tr>\n",
       "    <tr>\n",
       "      <th>2</th>\n",
       "      <td>Anders Hammer</td>\n",
       "      <td>NaN</td>\n",
       "      <td>1980-04-03</td>\n",
       "      <td>NaT</td>\n",
       "      <td>NaN</td>\n",
       "      <td>NaN</td>\n",
       "      <td>Sweden</td>\n",
       "      <td>NaN</td>\n",
       "      <td>NaN</td>\n",
       "      <td>male</td>\n",
       "      <td>1.0</td>\n",
       "      <td>1</td>\n",
       "      <td>NaN</td>\n",
       "      <td>death_metal</td>\n",
       "    </tr>\n",
       "    <tr>\n",
       "      <th>3</th>\n",
       "      <td>Ares</td>\n",
       "      <td>NaN</td>\n",
       "      <td>1973-06-03</td>\n",
       "      <td>NaT</td>\n",
       "      <td>NaN</td>\n",
       "      <td>NaN</td>\n",
       "      <td>Norway</td>\n",
       "      <td>Bergen</td>\n",
       "      <td>NaN</td>\n",
       "      <td>male</td>\n",
       "      <td>2.0</td>\n",
       "      <td>3</td>\n",
       "      <td>NaN</td>\n",
       "      <td>death_metal</td>\n",
       "    </tr>\n",
       "    <tr>\n",
       "      <th>4</th>\n",
       "      <td>Astennu</td>\n",
       "      <td>NaN</td>\n",
       "      <td>2000-01-01</td>\n",
       "      <td>NaT</td>\n",
       "      <td>NaN</td>\n",
       "      <td>NaN</td>\n",
       "      <td>Australia</td>\n",
       "      <td>Sydney</td>\n",
       "      <td>NaN</td>\n",
       "      <td>male</td>\n",
       "      <td>1.0</td>\n",
       "      <td>3</td>\n",
       "      <td>NaN</td>\n",
       "      <td>death_metal</td>\n",
       "    </tr>\n",
       "  </tbody>\n",
       "</table>\n",
       "</div>"
      ],
      "text/plain": [
       "  instance_ofLabel instance_of date_of_birth date_of_death  \\\n",
       "0     Alex Webster         NaN    1969-10-25           NaT   \n",
       "1       Allen West         NaN    1967-10-17           NaT   \n",
       "2    Anders Hammer         NaN    1980-04-03           NaT   \n",
       "3             Ares         NaN    1973-06-03           NaT   \n",
       "4          Astennu         NaN    2000-01-01           NaT   \n",
       "\n",
       "  cause_of_deathLabel manner_of_deathLabel country_of_citizenshipLabel  \\\n",
       "0                 NaN                  NaN    United States of America   \n",
       "1                 NaN                  NaN    United States of America   \n",
       "2                 NaN                  NaN                      Sweden   \n",
       "3                 NaN                  NaN                      Norway   \n",
       "4                 NaN                  NaN                   Australia   \n",
       "\n",
       "  place_of_birthLabel place_of_deathLabel sex_or_genderLabel  \\\n",
       "0               Akron                 NaN               male   \n",
       "1             Brandon                 NaN               male   \n",
       "2                 NaN                 NaN               male   \n",
       "3              Bergen                 NaN               male   \n",
       "4              Sydney                 NaN               male   \n",
       "\n",
       "   quantity_instrumentLabel  quantity_occupationLabel  years_of_life  \\\n",
       "0                       2.0                         2            NaN   \n",
       "1                       1.0                         1            NaN   \n",
       "2                       1.0                         1            NaN   \n",
       "3                       2.0                         3            NaN   \n",
       "4                       1.0                         3            NaN   \n",
       "\n",
       "         group  \n",
       "0  death_metal  \n",
       "1  death_metal  \n",
       "2  death_metal  \n",
       "3  death_metal  \n",
       "4  death_metal  "
      ]
     },
     "execution_count": 11,
     "metadata": {},
     "output_type": "execute_result"
    }
   ],
   "source": [
    "DB_final.head()"
   ]
  },
  {
   "cell_type": "code",
   "execution_count": 12,
   "metadata": {},
   "outputs": [
    {
     "data": {
      "text/plain": [
       "(3389, 14)"
      ]
     },
     "execution_count": 12,
     "metadata": {},
     "output_type": "execute_result"
    }
   ],
   "source": [
    "DB_final.shape"
   ]
  },
  {
   "cell_type": "markdown",
   "metadata": {},
   "source": [
    "---"
   ]
  },
  {
   "cell_type": "markdown",
   "metadata": {},
   "source": [
    "<div class=\"alert alert-block alert-success\">\n",
    "⚠️TASK 9\n",
    "<br>\n",
    "\n",
    "Please check the minimum year of birth in each of the 4 music groups.\n",
    "\n",
    "</div>"
   ]
  },
  {
   "cell_type": "code",
   "execution_count": 14,
   "metadata": {},
   "outputs": [
    {
     "data": {
      "text/plain": [
       "group\n",
       "death_metal     1953-01-01\n",
       "hip_hop_music   1950-01-01\n",
       "jazz            1877-05-25\n",
       "pop_music       1898-06-09\n",
       "Name: date_of_birth, dtype: datetime64[ns]"
      ]
     },
     "execution_count": 14,
     "metadata": {},
     "output_type": "execute_result"
    }
   ],
   "source": [
    "DB_final.groupby(\"group\").date_of_birth.min()"
   ]
  },
  {
   "cell_type": "markdown",
   "metadata": {},
   "source": [
    "<div class=\"alert alert-block alert-success\">\n",
    "⚠️TASK 10\n",
    "<br>\n",
    "\n",
    "Please visualize the years of life and see if everything is good.\n",
    "\n",
    "</div>"
   ]
  },
  {
   "cell_type": "code",
   "execution_count": 15,
   "metadata": {},
   "outputs": [
    {
     "data": {
      "text/plain": [
       "<matplotlib.axes._subplots.AxesSubplot at 0x1c107a47c88>"
      ]
     },
     "execution_count": 15,
     "metadata": {},
     "output_type": "execute_result"
    },
    {
     "data": {
      "image/png": "[encoded data removed]",
      "text/plain": [
       "<Figure size 432x288 with 1 Axes>"
      ]
     },
     "metadata": {
      "needs_background": "light"
     },
     "output_type": "display_data"
    }
   ],
   "source": [
    "DB_final.years_of_life.plot()"
   ]
  },
  {
   "cell_type": "markdown",
   "metadata": {},
   "source": [
    "You can see above that the `years_of_life` are broken - we have persons living negative numbers of years!"
   ]
  },
  {
   "cell_type": "markdown",
   "metadata": {},
   "source": [
    "<div class=\"alert alert-block alert-success\">\n",
    "⚠️TASK 11\n",
    "<br>\n",
    "\n",
    "Please select from the database only those who were born in the earliest year of birth in the death metal group and later (i.e. when the first death metal musician was born and later). Assign the result dataframe to the variable `df_death`. Please also remove people who have a negative life duration.\n",
    "\n",
    "</div>"
   ]
  },
  {
   "cell_type": "code",
   "execution_count": 39,
   "metadata": {},
   "outputs": [
    {
     "data": {
      "text/plain": [
       "<matplotlib.axes._subplots.AxesSubplot at 0x1c106d3f948>"
      ]
     },
     "execution_count": 39,
     "metadata": {},
     "output_type": "execute_result"
    },
    {
     "data": {
      "image/png": "[encoded data removed]",
      "text/plain": [
       "<Figure size 432x288 with 1 Axes>"
      ]
     },
     "metadata": {
      "needs_background": "light"
     },
     "output_type": "display_data"
    }
   ],
   "source": [
    "# selecting from the database only those who were born in the earliest year of birth in the death metal group and later\n",
    "earliest_birth_date = DB_final.query('group == \"death_metal\"').date_of_birth.min()\n",
    "\n",
    "df_death = DB_final[DB_final.date_of_birth >= earliest_birth_date]\n",
    "\n",
    "# removing negative years\n",
    "df_death = DB_final[DB_final.years_of_life > 0].reset_index(drop=True)\n",
    "\n",
    "\n",
    "\n",
    "# checking if years_of_life are correct now\n",
    "df_death.years_of_life.plot()"
   ]
  },
  {
   "cell_type": "markdown",
   "metadata": {},
   "source": [
    "`years_of_life` are a bit better now, but there are a couple of \"musicians\" that were living for a couple of years only. This is probably a dataset error. We will leave it for now, though."
   ]
  },
  {
   "cell_type": "code",
   "execution_count": 63,
   "metadata": {},
   "outputs": [
    {
     "data": {
      "text/html": [
       "<div>\n",
       "<style scoped>\n",
       "    .dataframe tbody tr th:only-of-type {\n",
       "        vertical-align: middle;\n",
       "    }\n",
       "\n",
       "    .dataframe tbody tr th {\n",
       "        vertical-align: top;\n",
       "    }\n",
       "\n",
       "    .dataframe thead th {\n",
       "        text-align: right;\n",
       "    }\n",
       "</style>\n",
       "<table border=\"1\" class=\"dataframe\">\n",
       "  <thead>\n",
       "    <tr style=\"text-align: right;\">\n",
       "      <th></th>\n",
       "      <th>instance_ofLabel</th>\n",
       "      <th>instance_of</th>\n",
       "      <th>date_of_birth</th>\n",
       "      <th>date_of_death</th>\n",
       "      <th>cause_of_deathLabel</th>\n",
       "      <th>manner_of_deathLabel</th>\n",
       "      <th>country_of_citizenshipLabel</th>\n",
       "      <th>place_of_birthLabel</th>\n",
       "      <th>place_of_deathLabel</th>\n",
       "      <th>sex_or_genderLabel</th>\n",
       "      <th>quantity_instrumentLabel</th>\n",
       "      <th>quantity_occupationLabel</th>\n",
       "      <th>years_of_life</th>\n",
       "      <th>group</th>\n",
       "    </tr>\n",
       "  </thead>\n",
       "  <tbody>\n",
       "    <tr>\n",
       "      <th>0</th>\n",
       "      <td>Bill Tolley</td>\n",
       "      <td>NaN</td>\n",
       "      <td>1974-07-19</td>\n",
       "      <td>2017-04-20</td>\n",
       "      <td>falling</td>\n",
       "      <td>accident</td>\n",
       "      <td>United States of America</td>\n",
       "      <td>Bethpage</td>\n",
       "      <td>Queens</td>\n",
       "      <td>male</td>\n",
       "      <td>1.0</td>\n",
       "      <td>2</td>\n",
       "      <td>42.75</td>\n",
       "      <td>death_metal</td>\n",
       "    </tr>\n",
       "    <tr>\n",
       "      <th>1</th>\n",
       "      <td>Chuck Schuldiner</td>\n",
       "      <td>NaN</td>\n",
       "      <td>1967-05-13</td>\n",
       "      <td>2001-12-13</td>\n",
       "      <td>brain cancer</td>\n",
       "      <td>natural causes</td>\n",
       "      <td>United States of America</td>\n",
       "      <td>New York City</td>\n",
       "      <td>Altamonte Springs</td>\n",
       "      <td>male</td>\n",
       "      <td>2.0</td>\n",
       "      <td>5</td>\n",
       "      <td>34.58</td>\n",
       "      <td>death_metal</td>\n",
       "    </tr>\n",
       "    <tr>\n",
       "      <th>2</th>\n",
       "      <td>Frank Watkins</td>\n",
       "      <td>NaN</td>\n",
       "      <td>1968-02-19</td>\n",
       "      <td>2015-10-18</td>\n",
       "      <td>cancer</td>\n",
       "      <td>natural causes</td>\n",
       "      <td>United States of America</td>\n",
       "      <td>NaN</td>\n",
       "      <td>NaN</td>\n",
       "      <td>male</td>\n",
       "      <td>2.0</td>\n",
       "      <td>2</td>\n",
       "      <td>47.58</td>\n",
       "      <td>death_metal</td>\n",
       "    </tr>\n",
       "    <tr>\n",
       "      <th>3</th>\n",
       "      <td>James Paul Konya</td>\n",
       "      <td>NaN</td>\n",
       "      <td>1971-04-21</td>\n",
       "      <td>2015-10-07</td>\n",
       "      <td>stroke</td>\n",
       "      <td>natural causes</td>\n",
       "      <td>United States of America</td>\n",
       "      <td>Ohio</td>\n",
       "      <td>NaN</td>\n",
       "      <td>male</td>\n",
       "      <td>1.0</td>\n",
       "      <td>1</td>\n",
       "      <td>44.42</td>\n",
       "      <td>death_metal</td>\n",
       "    </tr>\n",
       "    <tr>\n",
       "      <th>4</th>\n",
       "      <td>Killjoy</td>\n",
       "      <td>NaN</td>\n",
       "      <td>1969-11-04</td>\n",
       "      <td>2018-03-18</td>\n",
       "      <td>NaN</td>\n",
       "      <td>NaN</td>\n",
       "      <td>United States of America</td>\n",
       "      <td>NaN</td>\n",
       "      <td>NaN</td>\n",
       "      <td>male</td>\n",
       "      <td>NaN</td>\n",
       "      <td>1</td>\n",
       "      <td>48.33</td>\n",
       "      <td>death_metal</td>\n",
       "    </tr>\n",
       "    <tr>\n",
       "      <th>...</th>\n",
       "      <td>...</td>\n",
       "      <td>...</td>\n",
       "      <td>...</td>\n",
       "      <td>...</td>\n",
       "      <td>...</td>\n",
       "      <td>...</td>\n",
       "      <td>...</td>\n",
       "      <td>...</td>\n",
       "      <td>...</td>\n",
       "      <td>...</td>\n",
       "      <td>...</td>\n",
       "      <td>...</td>\n",
       "      <td>...</td>\n",
       "      <td>...</td>\n",
       "    </tr>\n",
       "    <tr>\n",
       "      <th>756</th>\n",
       "      <td>Vladimir Romashkin</td>\n",
       "      <td>NaN</td>\n",
       "      <td>1951-09-06</td>\n",
       "      <td>2002-08-29</td>\n",
       "      <td>NaN</td>\n",
       "      <td>NaN</td>\n",
       "      <td>NaN</td>\n",
       "      <td>Q4205468</td>\n",
       "      <td>Saransk</td>\n",
       "      <td>male</td>\n",
       "      <td>1.0</td>\n",
       "      <td>2</td>\n",
       "      <td>50.92</td>\n",
       "      <td>pop_music</td>\n",
       "    </tr>\n",
       "    <tr>\n",
       "      <th>757</th>\n",
       "      <td>Walter Hammerl</td>\n",
       "      <td>NaN</td>\n",
       "      <td>1952-01-01</td>\n",
       "      <td>1981-02-01</td>\n",
       "      <td>NaN</td>\n",
       "      <td>NaN</td>\n",
       "      <td>Austria</td>\n",
       "      <td>Graz</td>\n",
       "      <td>Graz</td>\n",
       "      <td>male</td>\n",
       "      <td>1.0</td>\n",
       "      <td>2</td>\n",
       "      <td>29.08</td>\n",
       "      <td>pop_music</td>\n",
       "    </tr>\n",
       "    <tr>\n",
       "      <th>758</th>\n",
       "      <td>Whitney Houston</td>\n",
       "      <td>NaN</td>\n",
       "      <td>1963-08-09</td>\n",
       "      <td>2012-02-11</td>\n",
       "      <td>substance abuse</td>\n",
       "      <td>accident</td>\n",
       "      <td>United States of America</td>\n",
       "      <td>Newark</td>\n",
       "      <td>Beverly Hilton Hotel</td>\n",
       "      <td>female</td>\n",
       "      <td>3.0</td>\n",
       "      <td>11</td>\n",
       "      <td>48.50</td>\n",
       "      <td>pop_music</td>\n",
       "    </tr>\n",
       "    <tr>\n",
       "      <th>759</th>\n",
       "      <td>Xavier Cugat</td>\n",
       "      <td>NaN</td>\n",
       "      <td>1900-01-01</td>\n",
       "      <td>1990-10-27</td>\n",
       "      <td>heart failure</td>\n",
       "      <td>NaN</td>\n",
       "      <td>Cuba</td>\n",
       "      <td>Girona</td>\n",
       "      <td>Barcelona</td>\n",
       "      <td>male</td>\n",
       "      <td>2.0</td>\n",
       "      <td>9</td>\n",
       "      <td>90.75</td>\n",
       "      <td>pop_music</td>\n",
       "    </tr>\n",
       "    <tr>\n",
       "      <th>760</th>\n",
       "      <td>Zahir Howaida</td>\n",
       "      <td>NaN</td>\n",
       "      <td>1945-02-28</td>\n",
       "      <td>2012-03-05</td>\n",
       "      <td>NaN</td>\n",
       "      <td>NaN</td>\n",
       "      <td>Afghanistan</td>\n",
       "      <td>Daykundi</td>\n",
       "      <td>Hamburg</td>\n",
       "      <td>male</td>\n",
       "      <td>1.0</td>\n",
       "      <td>2</td>\n",
       "      <td>67.00</td>\n",
       "      <td>pop_music</td>\n",
       "    </tr>\n",
       "  </tbody>\n",
       "</table>\n",
       "<p>761 rows × 14 columns</p>\n",
       "</div>"
      ],
      "text/plain": [
       "       instance_ofLabel instance_of date_of_birth date_of_death  \\\n",
       "0           Bill Tolley         NaN    1974-07-19    2017-04-20   \n",
       "1      Chuck Schuldiner         NaN    1967-05-13    2001-12-13   \n",
       "2         Frank Watkins         NaN    1968-02-19    2015-10-18   \n",
       "3      James Paul Konya         NaN    1971-04-21    2015-10-07   \n",
       "4               Killjoy         NaN    1969-11-04    2018-03-18   \n",
       "..                  ...         ...           ...           ...   \n",
       "756  Vladimir Romashkin         NaN    1951-09-06    2002-08-29   \n",
       "757      Walter Hammerl         NaN    1952-01-01    1981-02-01   \n",
       "758     Whitney Houston         NaN    1963-08-09    2012-02-11   \n",
       "759        Xavier Cugat         NaN    1900-01-01    1990-10-27   \n",
       "760       Zahir Howaida         NaN    1945-02-28    2012-03-05   \n",
       "\n",
       "    cause_of_deathLabel manner_of_deathLabel country_of_citizenshipLabel  \\\n",
       "0               falling             accident    United States of America   \n",
       "1          brain cancer       natural causes    United States of America   \n",
       "2                cancer       natural causes    United States of America   \n",
       "3                stroke       natural causes    United States of America   \n",
       "4                   NaN                  NaN    United States of America   \n",
       "..                  ...                  ...                         ...   \n",
       "756                 NaN                  NaN                         NaN   \n",
       "757                 NaN                  NaN                     Austria   \n",
       "758     substance abuse             accident    United States of America   \n",
       "759       heart failure                  NaN                        Cuba   \n",
       "760                 NaN                  NaN                 Afghanistan   \n",
       "\n",
       "    place_of_birthLabel   place_of_deathLabel sex_or_genderLabel  \\\n",
       "0              Bethpage                Queens               male   \n",
       "1         New York City     Altamonte Springs               male   \n",
       "2                   NaN                   NaN               male   \n",
       "3                  Ohio                   NaN               male   \n",
       "4                   NaN                   NaN               male   \n",
       "..                  ...                   ...                ...   \n",
       "756            Q4205468               Saransk               male   \n",
       "757                Graz                  Graz               male   \n",
       "758              Newark  Beverly Hilton Hotel             female   \n",
       "759              Girona             Barcelona               male   \n",
       "760            Daykundi               Hamburg               male   \n",
       "\n",
       "     quantity_instrumentLabel  quantity_occupationLabel  years_of_life  \\\n",
       "0                         1.0                         2          42.75   \n",
       "1                         2.0                         5          34.58   \n",
       "2                         2.0                         2          47.58   \n",
       "3                         1.0                         1          44.42   \n",
       "4                         NaN                         1          48.33   \n",
       "..                        ...                       ...            ...   \n",
       "756                       1.0                         2          50.92   \n",
       "757                       1.0                         2          29.08   \n",
       "758                       3.0                        11          48.50   \n",
       "759                       2.0                         9          90.75   \n",
       "760                       1.0                         2          67.00   \n",
       "\n",
       "           group  \n",
       "0    death_metal  \n",
       "1    death_metal  \n",
       "2    death_metal  \n",
       "3    death_metal  \n",
       "4    death_metal  \n",
       "..           ...  \n",
       "756    pop_music  \n",
       "757    pop_music  \n",
       "758    pop_music  \n",
       "759    pop_music  \n",
       "760    pop_music  \n",
       "\n",
       "[761 rows x 14 columns]"
      ]
     },
     "execution_count": 63,
     "metadata": {},
     "output_type": "execute_result"
    }
   ],
   "source": [
    "df_death"
   ]
  },
  {
   "cell_type": "markdown",
   "metadata": {},
   "source": [
    "<div class=\"alert alert-block alert-success\">\n",
    "⚠️TASK 12\n",
    "<br>\n",
    "\n",
    "Please check the number of deceased people in each group.\n",
    "\n",
    "</div>"
   ]
  },
  {
   "cell_type": "code",
   "execution_count": 40,
   "metadata": {},
   "outputs": [
    {
     "data": {
      "text/plain": [
       "jazz             581\n",
       "pop_music        136\n",
       "hip_hop_music     33\n",
       "death_metal       11\n",
       "Name: group, dtype: int64"
      ]
     },
     "execution_count": 40,
     "metadata": {},
     "output_type": "execute_result"
    }
   ],
   "source": [
    "# now df_death contains only deceased people (because we chose persons having years_of_life > 0)\n",
    "# only deceased people have years_of_life > 0\n",
    "\n",
    "df_death.group.value_counts()"
   ]
  },
  {
   "cell_type": "markdown",
   "metadata": {},
   "source": [
    "<div class=\"alert alert-block alert-success\">\n",
    "⚠️TASK 13\n",
    "<br>\n",
    "\n",
    "Please plot the life duration of people from particular groups, using both `sns.stripplot` (each dot will show the life duration of one person) and `sns.pointplot` (shows the average for a given group).\n",
    "<br><br>\n",
    "Stripplot should have the additional arguments `dodge=True, jitter=True`, while pointplot should have the argument `dodge=.532`.\n",
    "\n",
    "</div>"
   ]
  },
  {
   "cell_type": "code",
   "execution_count": 62,
   "metadata": {},
   "outputs": [
    {
     "data": {
      "text/plain": [
       "Text(0.5, 1.0, 'Longevity for musicians from different music genres')"
      ]
     },
     "execution_count": 62,
     "metadata": {},
     "output_type": "execute_result"
    },
    {
     "data": {
      "image/png": "[encoded data removed]",
      "text/plain": [
       "<Figure size 720x432 with 1 Axes>"
      ]
     },
     "metadata": {
      "needs_background": "light"
     },
     "output_type": "display_data"
    }
   ],
   "source": [
    "plt.figure(figsize=(10,6))\n",
    "sns.pointplot(x = df_death.group, y = df_death.years_of_life, dodge=.532)\n",
    "sns.stripplot(x = df_death.group, y = df_death.years_of_life, dodge=True, jitter=True, palette = \"husl\", alpha=0.4)\n",
    "\n",
    "\n",
    "plt.legend(labels=['average life duration for each music group'])\n",
    "plt.title('Longevity for musicians from different music genres')"
   ]
  }
 ],
 "metadata": {
  "kernelspec": {
   "display_name": "Python 3",
   "language": "python",
   "name": "python3"
  },
  "language_info": {
   "codemirror_mode": {
    "name": "ipython",
    "version": 3
   },
   "file_extension": ".py",
   "mimetype": "text/x-python",
   "name": "python",
   "nbconvert_exporter": "python",
   "pygments_lexer": "ipython3",
   "version": "3.8.3"
  }
 },
 "nbformat": 4,
 "nbformat_minor": 2
}
